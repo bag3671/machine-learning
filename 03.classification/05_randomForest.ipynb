{
  "nbformat": 4,
  "nbformat_minor": 0,
  "metadata": {
    "colab": {
      "name": "05_randomForest.ipynb",
      "provenance": []
    },
    "kernelspec": {
      "name": "python3",
      "display_name": "Python 3"
    }
  },
  "cells": [
    {
      "cell_type": "markdown",
      "metadata": {
        "id": "czT8x0X9tm1w"
      },
      "source": [
        "# 랜덤 포레스트"
      ]
    },
    {
      "cell_type": "code",
      "metadata": {
        "id": "TuJGMkWutYSZ"
      },
      "source": [
        "from sklearn.datasets import load_breast_cancer\r\n",
        "cancer = load_breast_cancer()"
      ],
      "execution_count": 3,
      "outputs": []
    },
    {
      "cell_type": "code",
      "metadata": {
        "id": "H_wMIMkstgJp"
      },
      "source": [
        "from sklearn.model_selection import train_test_split\r\n",
        "X_train, X_test, y_train, y_test = train_test_split(cancer.data, cancer.target, test_size=0.2, random_state=2021)"
      ],
      "execution_count": 4,
      "outputs": []
    },
    {
      "cell_type": "code",
      "metadata": {
        "id": "ZUbn7WcctixZ"
      },
      "source": [
        "import pandas as pd\r\n",
        "def get_new_feature_name_df(old_df):\r\n",
        "    dup_df = pd.DataFrame({'dup_cnt':feature_name_df.groupby('col_name').cumcount()})\r\n",
        "    new_df = pd.merge(old_df.reset_index(), dup_df.reset_index())\r\n",
        "    new_df['col_name'] = new_df[['col_name', 'dup_cnt']].\\\r\n",
        "        apply(lambda x: x[0]+'_'+str(x[1]) if x[1] > 0 else x[0], axis=1)\r\n",
        "    new_df = new_df.drop(['index'], axis=1)\r\n",
        "    return new_df"
      ],
      "execution_count": 6,
      "outputs": []
    },
    {
      "cell_type": "code",
      "metadata": {
        "id": "ZzFmd5_tupI0"
      },
      "source": [
        "X_train = pd.read_csv('./UCI HAR Dataset/train/X_train.txt', \r\n",
        "                      header=None, sep='\\s+', names=feature_list)\r\n",
        "X_test = pd.read_csv('./UCI HAR Dataset/test/X_test.txt', \r\n",
        "                     header=None, sep='\\s+', names=feature_list)\r\n",
        "y_train = pd.read_csv('./UCI HAR Dataset/train/y_train.txt', \r\n",
        "                      header=None, sep='\\s+', names=['action'])\r\n",
        "y_test = pd.read_csv('./UCI HAR Dataset/test/y_test.txt', \r\n",
        "                     header=None, sep='\\s+', names=['action'])"
      ],
      "execution_count": null,
      "outputs": []
    }
  ]
}