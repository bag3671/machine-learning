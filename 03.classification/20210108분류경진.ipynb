{
  "nbformat": 4,
  "nbformat_minor": 0,
  "metadata": {
    "language_info": {
      "codemirror_mode": {
        "name": "ipython",
        "version": 3
      },
      "file_extension": ".py",
      "mimetype": "text/x-python",
      "name": "python",
      "nbconvert_exporter": "python",
      "pygments_lexer": "ipython3",
      "version": "3.8.5-final"
    },
    "orig_nbformat": 2,
    "kernelspec": {
      "name": "python3",
      "display_name": "Python 3",
      "language": "python"
    },
    "colab": {
      "name": "20210108분류경진.ipynb",
      "provenance": []
    }
  },
  "cells": [
    {
      "cell_type": "code",
      "metadata": {
        "id": "mchk_Kd-KJg-"
      },
      "source": [
        "from sklearn.datasets import load_digits,load_breast_cancer\n",
        "digits = load_digits()\n",
        "cancer = load_breast_cancer()"
      ],
      "execution_count": 1,
      "outputs": []
    },
    {
      "cell_type": "code",
      "metadata": {
        "id": "bWvgyI6sKJhA"
      },
      "source": [
        "from sklearn.linear_model import LogisticRegression\n",
        "from sklearn.neighbors import KNeighborsClassifier\n",
        "from sklearn.svm import SVC\n",
        "from sklearn.metrics import accuracy_score\n",
        "from sklearn.model_selection import train_test_split\n",
        "lr = LogisticRegression()\n",
        "knn = KNeighborsClassifier()\n",
        "svc = SVC()"
      ],
      "execution_count": 2,
      "outputs": []
    },
    {
      "cell_type": "code",
      "metadata": {
        "id": "kDU8A5EJKJhB"
      },
      "source": [
        "from sklearn.preprocessing import MinMaxScaler\n",
        "scaler = MinMaxScaler()\n",
        "digits_scaled = scaler.fit_transform(digits.data)\n",
        "X_train, X_test, y_train, y_test = train_test_split(digits_scaled, digits.target, random_state=2021, test_size=0.2)"
      ],
      "execution_count": 3,
      "outputs": []
    },
    {
      "cell_type": "code",
      "metadata": {
        "colab": {
          "base_uri": "https://localhost:8080/"
        },
        "id": "txTIiXAuKJhC",
        "outputId": "def894e7-30ae-47d4-b251-f5cf1c569b7d"
      },
      "source": [
        "lr.fit(X_train,y_train)\n",
        "pred = lr.predict(X_test)\n",
        "acc = accuracy_score(y_test, pred)\n",
        "print(f'정확도: {acc:.4f}')"
      ],
      "execution_count": 4,
      "outputs": [
        {
          "output_type": "stream",
          "text": [
            "정확도: 0.9528\n"
          ],
          "name": "stdout"
        },
        {
          "output_type": "stream",
          "text": [
            "/usr/local/lib/python3.6/dist-packages/sklearn/linear_model/_logistic.py:940: ConvergenceWarning: lbfgs failed to converge (status=1):\n",
            "STOP: TOTAL NO. of ITERATIONS REACHED LIMIT.\n",
            "\n",
            "Increase the number of iterations (max_iter) or scale the data as shown in:\n",
            "    https://scikit-learn.org/stable/modules/preprocessing.html\n",
            "Please also refer to the documentation for alternative solver options:\n",
            "    https://scikit-learn.org/stable/modules/linear_model.html#logistic-regression\n",
            "  extra_warning_msg=_LOGISTIC_SOLVER_CONVERGENCE_MSG)\n"
          ],
          "name": "stderr"
        }
      ]
    },
    {
      "cell_type": "code",
      "metadata": {
        "colab": {
          "base_uri": "https://localhost:8080/"
        },
        "id": "EbCKu4tdKJhD",
        "outputId": "bf23b577-3c99-42a9-d5a2-1fe6dc7097e8"
      },
      "source": [
        "svc.fit(X_train,y_train)\n",
        "pred = svc.predict(X_test)\n",
        "acc = accuracy_score(y_test, pred)\n",
        "print(f'정확도: {acc:.4f}')"
      ],
      "execution_count": 5,
      "outputs": [
        {
          "output_type": "stream",
          "text": [
            "정확도: 0.9778\n"
          ],
          "name": "stdout"
        }
      ]
    },
    {
      "cell_type": "code",
      "metadata": {
        "colab": {
          "base_uri": "https://localhost:8080/"
        },
        "id": "MueCTmhvKJhE",
        "outputId": "7bd37d53-9912-4cb3-b7f3-7151ee7d26f5"
      },
      "source": [
        "# 제일 높음\n",
        "knn.fit(X_train,y_train)\n",
        "pred = knn.predict(X_test)\n",
        "acc = accuracy_score(y_test, pred)\n",
        "print(f'정확도: {acc:.4f}')"
      ],
      "execution_count": 6,
      "outputs": [
        {
          "output_type": "stream",
          "text": [
            "정확도: 0.9889\n"
          ],
          "name": "stdout"
        }
      ]
    },
    {
      "cell_type": "code",
      "metadata": {
        "colab": {
          "base_uri": "https://localhost:8080/"
        },
        "id": "x8LeiLkTKJhE",
        "outputId": "7de1bcfe-4ecd-4c75-f4f0-9bf21f5acbd0"
      },
      "source": [
        "knn.get_params()"
      ],
      "execution_count": 7,
      "outputs": [
        {
          "output_type": "execute_result",
          "data": {
            "text/plain": [
              "{'algorithm': 'auto',\n",
              " 'leaf_size': 30,\n",
              " 'metric': 'minkowski',\n",
              " 'metric_params': None,\n",
              " 'n_jobs': None,\n",
              " 'n_neighbors': 5,\n",
              " 'p': 2,\n",
              " 'weights': 'uniform'}"
            ]
          },
          "metadata": {
            "tags": []
          },
          "execution_count": 7
        }
      ]
    },
    {
      "cell_type": "code",
      "metadata": {
        "colab": {
          "base_uri": "https://localhost:8080/"
        },
        "id": "P7B2sAYBKJhF",
        "outputId": "83ad1c51-66bf-4d5e-8446-57377e9b4fbb"
      },
      "source": [
        "from sklearn.model_selection import GridSearchCV\n",
        "params = {\n",
        "    'n_neighbors': [5,6,7],\n",
        "    'leaf_size': [25,28,31],\n",
        "    'p': [1,2,3]\n",
        "}\n",
        "Knn_clf = KNeighborsClassifier(n_jobs=1)\n",
        "grid_cv = GridSearchCV(Knn_clf, param_grid=params, cv=4, n_jobs=1,scoring='accuracy', refit=True)\n",
        "grid_cv.fit(X_train,y_train)\n",
        "print(f'최고 평균 정확도: {grid_cv.best_score_:.4f}')\n",
        "print('최적 파라미터: ', grid_cv.best_params_)"
      ],
      "execution_count": 8,
      "outputs": [
        {
          "output_type": "stream",
          "text": [
            "최고 평균 정확도: 0.9833\n",
            "최적 파라미터:  {'leaf_size': 25, 'n_neighbors': 5, 'p': 3}\n"
          ],
          "name": "stdout"
        }
      ]
    },
    {
      "cell_type": "code",
      "metadata": {
        "colab": {
          "base_uri": "https://localhost:8080/"
        },
        "id": "xQrsy3XPKJhF",
        "outputId": "ba7cd2d5-8e32-4afa-b3a7-45566e212528"
      },
      "source": [
        "best = grid_cv.best_estimator_\n",
        "pred = best.predict(X_test)\n",
        "acc = accuracy_score(y_test, pred)\n",
        "print(f'최적 파라미터 정확도: {acc:.4f}')"
      ],
      "execution_count": 9,
      "outputs": [
        {
          "output_type": "stream",
          "text": [
            "최적 파라미터 정확도: 0.9917\n"
          ],
          "name": "stdout"
        }
      ]
    },
    {
      "cell_type": "markdown",
      "metadata": {
        "id": "9KD1MhH4KJhG"
      },
      "source": [
        "### breast cancer"
      ]
    },
    {
      "cell_type": "code",
      "metadata": {
        "id": "nPKU_yebKJhH"
      },
      "source": [
        "scaler = MinMaxScaler()\n",
        "cancer_scaled = scaler.fit_transform(cancer.data)\n",
        "X_train, X_test, y_train, y_test = train_test_split(cancer_scaled, cancer.target, random_state=2021, test_size=0.2)"
      ],
      "execution_count": 10,
      "outputs": []
    },
    {
      "cell_type": "code",
      "metadata": {
        "colab": {
          "base_uri": "https://localhost:8080/"
        },
        "id": "lmgXUPvtKJhH",
        "outputId": "5a40ae90-0076-417c-f136-916054e4729e"
      },
      "source": [
        "lr.fit(X_train,y_train)\n",
        "pred = lr.predict(X_test)\n",
        "acc = accuracy_score(y_test, pred)\n",
        "print(f'정확도: {acc:.4f}')"
      ],
      "execution_count": 11,
      "outputs": [
        {
          "output_type": "stream",
          "text": [
            "정확도: 0.9561\n"
          ],
          "name": "stdout"
        }
      ]
    },
    {
      "cell_type": "code",
      "metadata": {
        "colab": {
          "base_uri": "https://localhost:8080/"
        },
        "id": "xhDKd6eGKJhI",
        "outputId": "ffa0e545-9b57-4f4e-b8b5-a2a122649e93"
      },
      "source": [
        "# 제일 높음\n",
        "svc.fit(X_train,y_train)\n",
        "pred = svc.predict(X_test)\n",
        "acc = accuracy_score(y_test, pred)\n",
        "print(f'정확도: {acc:.4f}')"
      ],
      "execution_count": 12,
      "outputs": [
        {
          "output_type": "stream",
          "text": [
            "정확도: 0.9912\n"
          ],
          "name": "stdout"
        }
      ]
    },
    {
      "cell_type": "code",
      "metadata": {
        "colab": {
          "base_uri": "https://localhost:8080/"
        },
        "id": "fAUacYzOKJhI",
        "outputId": "2265c2d0-4e27-4101-cea4-f1445124f9ed"
      },
      "source": [
        "knn.fit(X_train,y_train)\n",
        "pred = knn.predict(X_test)\n",
        "acc = accuracy_score(y_test, pred)\n",
        "print(f'정확도: {acc:.4f}')"
      ],
      "execution_count": 13,
      "outputs": [
        {
          "output_type": "stream",
          "text": [
            "정확도: 0.9825\n"
          ],
          "name": "stdout"
        }
      ]
    },
    {
      "cell_type": "code",
      "metadata": {
        "colab": {
          "base_uri": "https://localhost:8080/"
        },
        "id": "RkGioeJ7KJhJ",
        "outputId": "b450278c-a9c8-4d9f-c69f-32b5d3e74f94"
      },
      "source": [
        "svc.get_params()"
      ],
      "execution_count": 14,
      "outputs": [
        {
          "output_type": "execute_result",
          "data": {
            "text/plain": [
              "{'C': 1.0,\n",
              " 'break_ties': False,\n",
              " 'cache_size': 200,\n",
              " 'class_weight': None,\n",
              " 'coef0': 0.0,\n",
              " 'decision_function_shape': 'ovr',\n",
              " 'degree': 3,\n",
              " 'gamma': 'scale',\n",
              " 'kernel': 'rbf',\n",
              " 'max_iter': -1,\n",
              " 'probability': False,\n",
              " 'random_state': None,\n",
              " 'shrinking': True,\n",
              " 'tol': 0.001,\n",
              " 'verbose': False}"
            ]
          },
          "metadata": {
            "tags": []
          },
          "execution_count": 14
        }
      ]
    },
    {
      "cell_type": "code",
      "metadata": {
        "colab": {
          "base_uri": "https://localhost:8080/"
        },
        "id": "HVIEw2r9KJhJ",
        "outputId": "bef5a388-6875-43cb-f909-94c75a551f8f"
      },
      "source": [
        "params = {\n",
        "    'C':list(range(1,10)),\n",
        "    'cache_size': list(range(80,230)),\n",
        "    'degree': list(range(1,40))\n",
        "}\n",
        "svc_clf = SVC()\n",
        "grid_cv = GridSearchCV(svc_clf, param_grid=params,n_jobs=1, cv=3,scoring='accuracy', refit=True)\n",
        "grid_cv.fit(X_train,y_train)\n",
        "print(f'최고 평균 정확도: {grid_cv.best_score_:.4f}')\n",
        "print('최적 파라미터: ', grid_cv.best_params_)"
      ],
      "execution_count": 29,
      "outputs": [
        {
          "output_type": "stream",
          "text": [
            "최고 평균 정확도: 0.9714\n",
            "최적 파라미터:  {'C': 2, 'cache_size': 80, 'degree': 1}\n"
          ],
          "name": "stdout"
        }
      ]
    },
    {
      "cell_type": "code",
      "metadata": {
        "colab": {
          "base_uri": "https://localhost:8080/"
        },
        "id": "M6dhhAsTKJhK",
        "outputId": "ac03816f-d0c7-490f-b4ca-1e836e5f9f25"
      },
      "source": [
        "best = grid_cv.best_estimator_\n",
        "pred = best.predict(X_test)\n",
        "acc = accuracy_score(y_test, pred)\n",
        "print(f'최적 파라미터  정확도: {acc:.4f}')"
      ],
      "execution_count": 22,
      "outputs": [
        {
          "output_type": "stream",
          "text": [
            "최적 파라미터  정확도: 0.9912\n"
          ],
          "name": "stdout"
        }
      ]
    },
    {
      "cell_type": "code",
      "metadata": {
        "id": "Hf9cKhbhLgGU"
      },
      "source": [
        ""
      ],
      "execution_count": null,
      "outputs": []
    }
  ]
}