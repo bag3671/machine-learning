{
 "metadata": {
  "language_info": {
   "codemirror_mode": {
    "name": "ipython",
    "version": 3
   },
   "file_extension": ".py",
   "mimetype": "text/x-python",
   "name": "python",
   "nbconvert_exporter": "python",
   "pygments_lexer": "ipython3",
   "version": "3.8.5-final"
  },
  "orig_nbformat": 2,
  "kernelspec": {
   "name": "python3",
   "display_name": "Python 3",
   "language": "python"
  }
 },
 "nbformat": 4,
 "nbformat_minor": 2,
 "cells": [
  {
   "cell_type": "code",
   "execution_count": 32,
   "metadata": {},
   "outputs": [],
   "source": [
    "from sklearn.datasets import load_digits,load_breast_cancer\n",
    "digits = load_digits()\n",
    "cancer = load_breast_cancer()"
   ]
  },
  {
   "cell_type": "code",
   "execution_count": 33,
   "metadata": {},
   "outputs": [],
   "source": [
    "from sklearn.linear_model import LogisticRegression\n",
    "from sklearn.neighbors import KNeighborsClassifier\n",
    "from sklearn.svm import SVC\n",
    "from sklearn.metrics import accuracy_score\n",
    "from sklearn.model_selection import train_test_split\n",
    "lr = LogisticRegression()\n",
    "knn = KNeighborsClassifier()\n",
    "svc = SVC()"
   ]
  },
  {
   "cell_type": "code",
   "execution_count": 34,
   "metadata": {},
   "outputs": [],
   "source": [
    "from sklearn.preprocessing import MinMaxScaler\n",
    "scaler = MinMaxScaler()\n",
    "digits_scaled = scaler.fit_transform(digits.data)\n",
    "X_train, X_test, y_train, y_test = train_test_split(digits_scaled, digits.target, random_state=2021, test_size=0.2)"
   ]
  },
  {
   "cell_type": "code",
   "execution_count": 35,
   "metadata": {},
   "outputs": [
    {
     "output_type": "stream",
     "name": "stdout",
     "text": [
      "정확도: 0.9528\n"
     ]
    }
   ],
   "source": [
    "lr.fit(X_train,y_train)\n",
    "pred = lr.predict(X_test)\n",
    "acc = accuracy_score(y_test, pred)\n",
    "print(f'정확도: {acc:.4f}')"
   ]
  },
  {
   "cell_type": "code",
   "execution_count": 36,
   "metadata": {},
   "outputs": [
    {
     "output_type": "stream",
     "name": "stdout",
     "text": [
      "정확도: 0.9778\n"
     ]
    }
   ],
   "source": [
    "svc.fit(X_train,y_train)\n",
    "pred = svc.predict(X_test)\n",
    "acc = accuracy_score(y_test, pred)\n",
    "print(f'정확도: {acc:.4f}')"
   ]
  },
  {
   "cell_type": "code",
   "execution_count": 37,
   "metadata": {},
   "outputs": [
    {
     "output_type": "stream",
     "name": "stdout",
     "text": [
      "정확도: 0.9889\n"
     ]
    }
   ],
   "source": [
    "# 제일 높음\n",
    "knn.fit(X_train,y_train)\n",
    "pred = knn.predict(X_test)\n",
    "acc = accuracy_score(y_test, pred)\n",
    "print(f'정확도: {acc:.4f}')"
   ]
  },
  {
   "cell_type": "code",
   "execution_count": 55,
   "metadata": {},
   "outputs": [
    {
     "output_type": "execute_result",
     "data": {
      "text/plain": [
       "{'algorithm': 'auto',\n",
       " 'leaf_size': 30,\n",
       " 'metric': 'minkowski',\n",
       " 'metric_params': None,\n",
       " 'n_jobs': None,\n",
       " 'n_neighbors': 5,\n",
       " 'p': 2,\n",
       " 'weights': 'uniform'}"
      ]
     },
     "metadata": {},
     "execution_count": 55
    }
   ],
   "source": [
    "knn.get_params()"
   ]
  },
  {
   "cell_type": "code",
   "execution_count": 45,
   "metadata": {},
   "outputs": [
    {
     "output_type": "stream",
     "name": "stdout",
     "text": [
      "최고 평균 정확도: 0.9833\n최적 파라미터:  {'leaf_size': 25, 'n_neighbors': 5, 'p': 3}\n"
     ]
    }
   ],
   "source": [
    "from sklearn.model_selection import GridSearchCV\n",
    "params = {\n",
    "    'n_neighbors': [5,6,7],\n",
    "    'leaf_size': [25,28,31],\n",
    "    'p': [1,2,3]\n",
    "}\n",
    "Knn_clf = KNeighborsClassifier(n_jobs=1)\n",
    "grid_cv = GridSearchCV(Knn_clf, param_grid=params, cv=4, n_jobs=1,scoring='accuracy', refit=True)\n",
    "grid_cv.fit(X_train,y_train)\n",
    "print(f'최고 평균 정확도: {grid_cv.best_score_:.4f}')\n",
    "print('최적 파라미터: ', grid_cv.best_params_)"
   ]
  },
  {
   "cell_type": "code",
   "execution_count": 46,
   "metadata": {},
   "outputs": [
    {
     "output_type": "stream",
     "name": "stdout",
     "text": [
      "최적 파라미터 정확도: 0.9917\n"
     ]
    }
   ],
   "source": [
    "best = grid_cv.best_estimator_\n",
    "pred = best.predict(X_test)\n",
    "acc = accuracy_score(y_test, pred)\n",
    "print(f'최적 파라미터 정확도: {acc:.4f}')"
   ]
  },
  {
   "source": [
    "### breast cancer"
   ],
   "cell_type": "markdown",
   "metadata": {}
  },
  {
   "cell_type": "code",
   "execution_count": 47,
   "metadata": {},
   "outputs": [],
   "source": [
    "scaler = MinMaxScaler()\n",
    "cancer_scaled = scaler.fit_transform(cancer.data)\n",
    "X_train, X_test, y_train, y_test = train_test_split(cancer_scaled, cancer.target, random_state=2021, test_size=0.2)"
   ]
  },
  {
   "cell_type": "code",
   "execution_count": 48,
   "metadata": {},
   "outputs": [
    {
     "output_type": "stream",
     "name": "stdout",
     "text": [
      "정확도: 0.9561\n"
     ]
    }
   ],
   "source": [
    "lr.fit(X_train,y_train)\n",
    "pred = lr.predict(X_test)\n",
    "acc = accuracy_score(y_test, pred)\n",
    "print(f'정확도: {acc:.4f}')"
   ]
  },
  {
   "cell_type": "code",
   "execution_count": 49,
   "metadata": {},
   "outputs": [
    {
     "output_type": "stream",
     "name": "stdout",
     "text": [
      "정확도: 0.9912\n"
     ]
    }
   ],
   "source": [
    "# 제일 높음\n",
    "svc.fit(X_train,y_train)\n",
    "pred = svc.predict(X_test)\n",
    "acc = accuracy_score(y_test, pred)\n",
    "print(f'정확도: {acc:.4f}')"
   ]
  },
  {
   "cell_type": "code",
   "execution_count": 50,
   "metadata": {},
   "outputs": [
    {
     "output_type": "stream",
     "name": "stdout",
     "text": [
      "정확도: 0.9825\n"
     ]
    }
   ],
   "source": [
    "knn.fit(X_train,y_train)\n",
    "pred = knn.predict(X_test)\n",
    "acc = accuracy_score(y_test, pred)\n",
    "print(f'정확도: {acc:.4f}')"
   ]
  },
  {
   "cell_type": "code",
   "execution_count": 56,
   "metadata": {},
   "outputs": [
    {
     "output_type": "execute_result",
     "data": {
      "text/plain": [
       "{'C': 1.0,\n",
       " 'break_ties': False,\n",
       " 'cache_size': 200,\n",
       " 'class_weight': None,\n",
       " 'coef0': 0.0,\n",
       " 'decision_function_shape': 'ovr',\n",
       " 'degree': 3,\n",
       " 'gamma': 'scale',\n",
       " 'kernel': 'rbf',\n",
       " 'max_iter': -1,\n",
       " 'probability': False,\n",
       " 'random_state': None,\n",
       " 'shrinking': True,\n",
       " 'tol': 0.001,\n",
       " 'verbose': False}"
      ]
     },
     "metadata": {},
     "execution_count": 56
    }
   ],
   "source": [
    "svc.get_params()"
   ]
  },
  {
   "cell_type": "code",
   "execution_count": 69,
   "metadata": {},
   "outputs": [
    {
     "output_type": "stream",
     "name": "stdout",
     "text": [
      "최고 평균 정확도: 0.9649\n최적 파라미터:  {'cache_size': 80, 'degree': 10}\n"
     ]
    }
   ],
   "source": [
    "params = {\n",
    "    'cache_size': [80,90,100,110,120,130],\n",
    "    'degree': [10,20,30]\n",
    "}\n",
    "svc_clf = SVC()\n",
    "grid_cv = GridSearchCV(svc_clf, param_grid=params,n_jobs=1, cv=3,scoring='accuracy')\n",
    "grid_cv.fit(X_train,y_train)\n",
    "print(f'최고 평균 정확도: {grid_cv.best_score_:.4f}')\n",
    "print('최적 파라미터: ', grid_cv.best_params_)"
   ]
  },
  {
   "cell_type": "code",
   "execution_count": 67,
   "metadata": {},
   "outputs": [
    {
     "output_type": "stream",
     "name": "stdout",
     "text": [
      "최적 파라미터  정확도: 0.9912\n"
     ]
    }
   ],
   "source": [
    "best = grid_cv.best_estimator_\n",
    "pred = best.predict(X_test)\n",
    "acc = accuracy_score(y_test, pred)\n",
    "print(f'최적 파라미터  정확도: {acc:.4f}')"
   ]
  },
  {
   "cell_type": "code",
   "execution_count": null,
   "metadata": {},
   "outputs": [],
   "source": []
  }
 ]
}