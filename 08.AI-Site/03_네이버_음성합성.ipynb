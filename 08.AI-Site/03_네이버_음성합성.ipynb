{
 "metadata": {
  "language_info": {
   "codemirror_mode": {
    "name": "ipython",
    "version": 3
   },
   "file_extension": ".py",
   "mimetype": "text/x-python",
   "name": "python",
   "nbconvert_exporter": "python",
   "pygments_lexer": "ipython3",
   "version": "3.8.5-final"
  },
  "orig_nbformat": 2,
  "kernelspec": {
   "name": "python3",
   "display_name": "Python 3",
   "language": "python"
  }
 },
 "nbformat": 4,
 "nbformat_minor": 2,
 "cells": [
  {
   "source": [
    "## 클로바 github sample site\n",
    "- https://github.com/NaverCloudPlatform/ai-python-sample/blob/master/clova_premium_voice_sample.py"
   ],
   "cell_type": "markdown",
   "metadata": {}
  },
  {
   "cell_type": "code",
   "execution_count": 29,
   "metadata": {},
   "outputs": [],
   "source": [
    "import requests\n",
    "import json\n"
   ]
  },
  {
   "cell_type": "code",
   "execution_count": 30,
   "metadata": {},
   "outputs": [],
   "source": [
    "with open('keys/clova_voice_key.json') as nkey:\n",
    "    json_str = nkey.read(200)\n",
    "json_obj = json.loads(json_str)\n",
    "client_id = list(json_obj.keys())[0]\n",
    "client_secret = json_obj[client_id]"
   ]
  },
  {
   "cell_type": "code",
   "execution_count": 31,
   "metadata": {},
   "outputs": [],
   "source": [
    "text = \"네이버 클라우드 플랫폼은 다양한 AI 서비스를 API를 통해 제공 하고 있습니다.\"\n",
    "\n",
    "speaker = \"nara\"\n",
    "speed = \"0\"\n",
    "pitch = \"0\"\n",
    "emotion = \"0\"\n",
    "format = \"mp3\"\n",
    "\n",
    "val = {\n",
    "    \"speaker\": speaker,\n",
    "    \"speed\": speed,\n",
    "    \"text\": text\n",
    "}\n",
    "\n",
    "url = \"https://naveropenapi.apigw.ntruss.com/tts-premium/v1/tts\"\n",
    "\n",
    "headers = {\n",
    "    \"X-NCP-APIGW-API-KEY-ID\": client_id,\n",
    "    \"X-NCP-APIGW-API-KEY\": client_secret,\n",
    "    \"Content-Type\": \"application/x-www-form-urlencoded\"\n",
    "}\n",
    "\n",
    "response = requests.post(url,  data=val, headers=headers)\n",
    "rescode = response.status_code\n"
   ]
  },
  {
   "cell_type": "code",
   "execution_count": 32,
   "metadata": {},
   "outputs": [
    {
     "output_type": "stream",
     "name": "stdout",
     "text": [
      "200\n"
     ]
    }
   ],
   "source": [
    "if(rescode == 200):\n",
    "    print(rescode)\n",
    "    with open('voice/cpv_sample.mp3', 'wb') as f:\n",
    "        f.write(response.content)\n",
    "else:\n",
    "    print(\"Error : \" + response.text)"
   ]
  },
  {
   "source": [
    "## 옵션 변경"
   ],
   "cell_type": "markdown",
   "metadata": {}
  },
  {
   "source": [
    "### emotion 변경"
   ],
   "cell_type": "markdown",
   "metadata": {}
  },
  {
   "cell_type": "code",
   "execution_count": 33,
   "metadata": {},
   "outputs": [],
   "source": [
    "text = \"네이버 클라우드 플랫폼은 다양한 AI 서비스를 API를 통해 제공 하고 있습니다.\"\n",
    "\n",
    "speaker = \"nara\"\n",
    "speed = \"0\"\n",
    "pitch = \"0\"\n",
    "emotion = \"1\"\n",
    "format = \"mp3\"\n",
    "\n",
    "val = {\n",
    "    \"speaker\": speaker,\n",
    "    \"speed\": speed,\n",
    "    \"text\": text,\n",
    "    \"emotion\":emotion\n",
    "}\n",
    "\n",
    "url = \"https://naveropenapi.apigw.ntruss.com/tts-premium/v1/tts\"\n",
    "\n",
    "headers = {\n",
    "    \"X-NCP-APIGW-API-KEY-ID\": client_id,\n",
    "    \"X-NCP-APIGW-API-KEY\": client_secret,\n",
    "    \"Content-Type\": \"application/x-www-form-urlencoded\"\n",
    "}\n",
    "\n",
    "response = requests.post(url,  data=val, headers=headers)\n",
    "rescode = response.status_code\n"
   ]
  },
  {
   "cell_type": "code",
   "execution_count": 34,
   "metadata": {},
   "outputs": [
    {
     "output_type": "stream",
     "name": "stdout",
     "text": [
      "200\n"
     ]
    }
   ],
   "source": [
    "if(rescode == 200):\n",
    "    print(rescode)\n",
    "    with open('voice/cpv_sample_loemo.mp3', 'wb') as f:\n",
    "        f.write(response.content)\n",
    "else:\n",
    "    print(\"Error : \" + response.text)"
   ]
  },
  {
   "cell_type": "code",
   "execution_count": 35,
   "metadata": {},
   "outputs": [],
   "source": [
    "text = \"네이버 클라우드 플랫폼은 다양한 AI 서비스를 API를 통해 제공 하고 있습니다.\"\n",
    "\n",
    "speaker = \"nara\"\n",
    "speed = \"0\"\n",
    "pitch = \"0\"\n",
    "emotion = \"2\"\n",
    "format = \"mp3\"\n",
    "\n",
    "val = {\n",
    "    \"speaker\": speaker,\n",
    "    \"speed\": speed,\n",
    "    \"text\": text,\n",
    "    \"emotion\":emotion\n",
    "}\n",
    "\n",
    "url = \"https://naveropenapi.apigw.ntruss.com/tts-premium/v1/tts\"\n",
    "\n",
    "headers = {\n",
    "    \"X-NCP-APIGW-API-KEY-ID\": client_id,\n",
    "    \"X-NCP-APIGW-API-KEY\": client_secret,\n",
    "    \"Content-Type\": \"application/x-www-form-urlencoded\"\n",
    "}\n",
    "\n",
    "response = requests.post(url,  data=val, headers=headers)\n",
    "rescode = response.status_code\n"
   ]
  },
  {
   "cell_type": "code",
   "execution_count": 36,
   "metadata": {},
   "outputs": [
    {
     "output_type": "stream",
     "name": "stdout",
     "text": [
      "200\n"
     ]
    }
   ],
   "source": [
    "if(rescode == 200):\n",
    "    print(rescode)\n",
    "    with open('voice/cpv_sample_hiemo.mp3', 'wb') as f:\n",
    "        f.write(response.content)\n",
    "else:\n",
    "    print(\"Error : \" + response.text)"
   ]
  },
  {
   "source": [
    "### pitch 변경"
   ],
   "cell_type": "markdown",
   "metadata": {}
  },
  {
   "cell_type": "code",
   "execution_count": 37,
   "metadata": {},
   "outputs": [],
   "source": [
    "text = \"네이버 클라우드 플랫폼은 다양한 AI 서비스를 API를 통해 제공 하고 있습니다.\"\n",
    "\n",
    "speaker = \"nara\"\n",
    "speed = \"0\"\n",
    "pitch = \"5\"\n",
    "emotion = \"0\"\n",
    "format = \"mp3\"\n",
    "\n",
    "val = {\n",
    "    \"speaker\": speaker,\n",
    "    \"speed\": speed,\n",
    "    \"text\": text,\n",
    "    \"pitch\":pitch\n",
    "}\n",
    "\n",
    "url = \"https://naveropenapi.apigw.ntruss.com/tts-premium/v1/tts\"\n",
    "\n",
    "headers = {\n",
    "    \"X-NCP-APIGW-API-KEY-ID\": client_id,\n",
    "    \"X-NCP-APIGW-API-KEY\": client_secret,\n",
    "    \"Content-Type\": \"application/x-www-form-urlencoded\"\n",
    "}\n",
    "\n",
    "response = requests.post(url,  data=val, headers=headers)\n",
    "rescode = response.status_code\n"
   ]
  },
  {
   "cell_type": "code",
   "execution_count": 38,
   "metadata": {},
   "outputs": [
    {
     "output_type": "stream",
     "name": "stdout",
     "text": [
      "200\n"
     ]
    }
   ],
   "source": [
    "if(rescode == 200):\n",
    "    print(rescode)\n",
    "    with open('voice/cpv_sample_lopitch.mp3', 'wb') as f:\n",
    "        f.write(response.content)\n",
    "else:\n",
    "    print(\"Error : \" + response.text)"
   ]
  },
  {
   "cell_type": "code",
   "execution_count": 39,
   "metadata": {},
   "outputs": [],
   "source": [
    "text = \"네이버 클라우드 플랫폼은 다양한 AI 서비스를 API를 통해 제공 하고 있습니다.\"\n",
    "\n",
    "speaker = \"nara\"\n",
    "speed = \"0\"\n",
    "pitch = \"-5\"\n",
    "emotion = \"0\"\n",
    "format = \"mp3\"\n",
    "\n",
    "val = {\n",
    "    \"speaker\": speaker,\n",
    "    \"speed\": speed,\n",
    "    \"text\": text,\n",
    "    \"pitch\":pitch\n",
    "}\n",
    "\n",
    "url = \"https://naveropenapi.apigw.ntruss.com/tts-premium/v1/tts\"\n",
    "\n",
    "headers = {\n",
    "    \"X-NCP-APIGW-API-KEY-ID\": client_id,\n",
    "    \"X-NCP-APIGW-API-KEY\": client_secret,\n",
    "    \"Content-Type\": \"application/x-www-form-urlencoded\"\n",
    "}\n",
    "\n",
    "response = requests.post(url,  data=val, headers=headers)\n",
    "rescode = response.status_code\n"
   ]
  },
  {
   "cell_type": "code",
   "execution_count": 40,
   "metadata": {},
   "outputs": [
    {
     "output_type": "stream",
     "name": "stdout",
     "text": [
      "200\n"
     ]
    }
   ],
   "source": [
    "if(rescode == 200):\n",
    "    print(rescode)\n",
    "    with open('voice/cpv_sample_hipitch.mp3', 'wb') as f:\n",
    "        f.write(response.content)\n",
    "else:\n",
    "    print(\"Error : \" + response.text)"
   ]
  }
 ]
}