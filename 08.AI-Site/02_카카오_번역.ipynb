{
 "metadata": {
  "language_info": {
   "codemirror_mode": {
    "name": "ipython",
    "version": 3
   },
   "file_extension": ".py",
   "mimetype": "text/x-python",
   "name": "python",
   "nbconvert_exporter": "python",
   "pygments_lexer": "ipython3",
   "version": "3.8.5-final"
  },
  "orig_nbformat": 2,
  "kernelspec": {
   "name": "python3",
   "display_name": "Python 3",
   "language": "python"
  }
 },
 "nbformat": 4,
 "nbformat_minor": 2,
 "cells": [
  {
   "cell_type": "code",
   "execution_count": 24,
   "metadata": {},
   "outputs": [],
   "source": [
    "import requests\n",
    "from urllib.parse import quote\n",
    "import json"
   ]
  },
  {
   "cell_type": "code",
   "execution_count": 12,
   "metadata": {},
   "outputs": [],
   "source": [
    "with open('keys/kakaoaikey.txt') as kfile:\n",
    "    kai_key = kfile.read(200)"
   ]
  },
  {
   "cell_type": "code",
   "execution_count": 57,
   "metadata": {},
   "outputs": [],
   "source": [
    "first_text = '이 문서는 카카오 번역 API 사용 방법을 설명합니다.'"
   ]
  },
  {
   "cell_type": "code",
   "execution_count": 66,
   "metadata": {},
   "outputs": [],
   "source": [
    "url = \"https://dapi.kakao.com/v2/translation/translate?query=\"+quote(text)+'&src_lang=kr&target_lang=en'"
   ]
  },
  {
   "cell_type": "code",
   "execution_count": 67,
   "metadata": {},
   "outputs": [
    {
     "output_type": "execute_result",
     "data": {
      "text/plain": [
       "{'translated_text': [['Naver Cloud Platform provides various artificial intelligence services such as Clova and papago in API form.'],\n",
       "  [\"Customers can use Naver's artificial intelligence services to build and operate the latest technology-based AI services.\"],\n",
       "  ['So, translate it']]}"
      ]
     },
     "metadata": {},
     "execution_count": 67
    }
   ],
   "source": [
    "result = requests.get(url,\n",
    "                        headers = {\"Authorization\":\"KakaoAK \"+kai_key}).json()\n",
    "result"
   ]
  },
  {
   "cell_type": "code",
   "execution_count": 63,
   "metadata": {},
   "outputs": [],
   "source": [
    "import requests\n",
    "import json\n",
    "def kakao_trans(text):\n",
    "    url = 'https://kapi.kakao.com/v1/translation/translate'\n",
    "    headers={ \"Authorization\" : \"KakaoAK \"+kai_key}\n",
    "    data = {\"src_lang\" : \"kr\",\n",
    "        \"target_lang\" : \"en\",\n",
    "        \"query\" : text }\n",
    "\n",
    "    response = requests.post(url, headers=headers, data=data) #, verify=False)\n",
    "    return response.json()['translated_text']"
   ]
  },
  {
   "cell_type": "code",
   "execution_count": 64,
   "metadata": {},
   "outputs": [
    {
     "output_type": "execute_result",
     "data": {
      "text/plain": [
       "[['This document describes how to use the Kakao translation API.']]"
      ]
     },
     "metadata": {},
     "execution_count": 64
    }
   ],
   "source": [
    "kakao_trans(first_text)"
   ]
  },
  {
   "cell_type": "code",
   "execution_count": 55,
   "metadata": {},
   "outputs": [],
   "source": [
    "text = \"\"\"네이버 클라우드 플랫폼에서는 Clova, papago 등 네이버의 다양한 인공지능 서비스를 API 형태로 제공합니다. \n",
    "    고객은 네이버의 인공지능 서비스를 활용하여, 최신 기술 기반의 AI 서비스를 구축하고 안정적으로 운영할 수 있습니다.\n",
    "    그리하여 번역하시오\"\"\""
   ]
  },
  {
   "cell_type": "code",
   "execution_count": 56,
   "metadata": {},
   "outputs": [
    {
     "output_type": "execute_result",
     "data": {
      "text/plain": [
       "[['Naver Cloud Platform provides various artificial intelligence services such as Clova and papago in API form.'],\n",
       " [\"Customers can use Naver's artificial intelligence services to build and operate the latest technology-based AI services.\"],\n",
       " ['So, translate it']]"
      ]
     },
     "metadata": {},
     "execution_count": 56
    }
   ],
   "source": [
    "kakao_trans(text)"
   ]
  },
  {
   "cell_type": "code",
   "execution_count": null,
   "metadata": {},
   "outputs": [],
   "source": []
  }
 ]
}