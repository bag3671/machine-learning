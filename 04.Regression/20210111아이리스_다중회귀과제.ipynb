{
  "nbformat": 4,
  "nbformat_minor": 0,
  "metadata": {
    "colab": {
      "name": "20210111아이리스 다중회귀과제.ipynb",
      "provenance": [],
      "collapsed_sections": []
    },
    "kernelspec": {
      "name": "python3",
      "display_name": "Python 3"
    }
  },
  "cells": [
    {
      "cell_type": "markdown",
      "metadata": {
        "id": "SZg6NW8a8oPl"
      },
      "source": [
        "## 다중회귀\r\n",
        "- iris에서 class,sl,sw,pw ==> petal length구하기\r\n",
        "### pl = [w1,w2,w3,w4][C,sl,sw,pl].T + bias\r\n",
        "### test size = 0.2\r\n",
        "### sl=?,sw=?,pw=?  "
      ]
    },
    {
      "cell_type": "code",
      "metadata": {
        "id": "zfmEyRoc8kDE"
      },
      "source": [
        "import numpy as np\r\n",
        "import pandas as pd\r\n",
        "import matplotlib.pyplot as plt\r\n",
        "import seaborn as sns\r\n",
        "%matplotlib inline\r\n",
        "from sklearn.model_selection import train_test_split, cross_val_score\r\n",
        "from sklearn.linear_model import LinearRegression\r\n",
        "from sklearn.metrics import mean_squared_error, r2_score\r\n",
        "from sklearn.datasets import load_iris\r\n",
        "iris = load_iris()"
      ],
      "execution_count": 353,
      "outputs": []
    },
    {
      "cell_type": "code",
      "metadata": {
        "colab": {
          "base_uri": "https://localhost:8080/"
        },
        "id": "q9se6z18-y8q",
        "outputId": "acad6097-b678-4f96-e148-54c572dbb41b"
      },
      "source": [
        "iris.target_names"
      ],
      "execution_count": 354,
      "outputs": [
        {
          "output_type": "execute_result",
          "data": {
            "text/plain": [
              "array(['setosa', 'versicolor', 'virginica'], dtype='<U10')"
            ]
          },
          "metadata": {
            "tags": []
          },
          "execution_count": 354
        }
      ]
    },
    {
      "cell_type": "code",
      "metadata": {
        "colab": {
          "base_uri": "https://localhost:8080/",
          "height": 419
        },
        "id": "PySBvDOa9GCq",
        "outputId": "c0f36475-8ab3-4831-d2c9-3a6f9f03a27b"
      },
      "source": [
        "df = pd.DataFrame(data=iris.data,columns=[\"SL\",\"SW\",\"PL\",\"PW\"])\r\n",
        "# df['C'] = iris.target_names[iris.target]\r\n",
        "#df.C => 0 = setosa, 1 = versicolor, 2 = virginica\r\n",
        "df['C'] = iris.target\r\n",
        "df"
      ],
      "execution_count": 355,
      "outputs": [
        {
          "output_type": "execute_result",
          "data": {
            "text/html": [
              "<div>\n",
              "<style scoped>\n",
              "    .dataframe tbody tr th:only-of-type {\n",
              "        vertical-align: middle;\n",
              "    }\n",
              "\n",
              "    .dataframe tbody tr th {\n",
              "        vertical-align: top;\n",
              "    }\n",
              "\n",
              "    .dataframe thead th {\n",
              "        text-align: right;\n",
              "    }\n",
              "</style>\n",
              "<table border=\"1\" class=\"dataframe\">\n",
              "  <thead>\n",
              "    <tr style=\"text-align: right;\">\n",
              "      <th></th>\n",
              "      <th>SL</th>\n",
              "      <th>SW</th>\n",
              "      <th>PL</th>\n",
              "      <th>PW</th>\n",
              "      <th>C</th>\n",
              "    </tr>\n",
              "  </thead>\n",
              "  <tbody>\n",
              "    <tr>\n",
              "      <th>0</th>\n",
              "      <td>5.1</td>\n",
              "      <td>3.5</td>\n",
              "      <td>1.4</td>\n",
              "      <td>0.2</td>\n",
              "      <td>0</td>\n",
              "    </tr>\n",
              "    <tr>\n",
              "      <th>1</th>\n",
              "      <td>4.9</td>\n",
              "      <td>3.0</td>\n",
              "      <td>1.4</td>\n",
              "      <td>0.2</td>\n",
              "      <td>0</td>\n",
              "    </tr>\n",
              "    <tr>\n",
              "      <th>2</th>\n",
              "      <td>4.7</td>\n",
              "      <td>3.2</td>\n",
              "      <td>1.3</td>\n",
              "      <td>0.2</td>\n",
              "      <td>0</td>\n",
              "    </tr>\n",
              "    <tr>\n",
              "      <th>3</th>\n",
              "      <td>4.6</td>\n",
              "      <td>3.1</td>\n",
              "      <td>1.5</td>\n",
              "      <td>0.2</td>\n",
              "      <td>0</td>\n",
              "    </tr>\n",
              "    <tr>\n",
              "      <th>4</th>\n",
              "      <td>5.0</td>\n",
              "      <td>3.6</td>\n",
              "      <td>1.4</td>\n",
              "      <td>0.2</td>\n",
              "      <td>0</td>\n",
              "    </tr>\n",
              "    <tr>\n",
              "      <th>...</th>\n",
              "      <td>...</td>\n",
              "      <td>...</td>\n",
              "      <td>...</td>\n",
              "      <td>...</td>\n",
              "      <td>...</td>\n",
              "    </tr>\n",
              "    <tr>\n",
              "      <th>145</th>\n",
              "      <td>6.7</td>\n",
              "      <td>3.0</td>\n",
              "      <td>5.2</td>\n",
              "      <td>2.3</td>\n",
              "      <td>2</td>\n",
              "    </tr>\n",
              "    <tr>\n",
              "      <th>146</th>\n",
              "      <td>6.3</td>\n",
              "      <td>2.5</td>\n",
              "      <td>5.0</td>\n",
              "      <td>1.9</td>\n",
              "      <td>2</td>\n",
              "    </tr>\n",
              "    <tr>\n",
              "      <th>147</th>\n",
              "      <td>6.5</td>\n",
              "      <td>3.0</td>\n",
              "      <td>5.2</td>\n",
              "      <td>2.0</td>\n",
              "      <td>2</td>\n",
              "    </tr>\n",
              "    <tr>\n",
              "      <th>148</th>\n",
              "      <td>6.2</td>\n",
              "      <td>3.4</td>\n",
              "      <td>5.4</td>\n",
              "      <td>2.3</td>\n",
              "      <td>2</td>\n",
              "    </tr>\n",
              "    <tr>\n",
              "      <th>149</th>\n",
              "      <td>5.9</td>\n",
              "      <td>3.0</td>\n",
              "      <td>5.1</td>\n",
              "      <td>1.8</td>\n",
              "      <td>2</td>\n",
              "    </tr>\n",
              "  </tbody>\n",
              "</table>\n",
              "<p>150 rows × 5 columns</p>\n",
              "</div>"
            ],
            "text/plain": [
              "      SL   SW   PL   PW  C\n",
              "0    5.1  3.5  1.4  0.2  0\n",
              "1    4.9  3.0  1.4  0.2  0\n",
              "2    4.7  3.2  1.3  0.2  0\n",
              "3    4.6  3.1  1.5  0.2  0\n",
              "4    5.0  3.6  1.4  0.2  0\n",
              "..   ...  ...  ...  ... ..\n",
              "145  6.7  3.0  5.2  2.3  2\n",
              "146  6.3  2.5  5.0  1.9  2\n",
              "147  6.5  3.0  5.2  2.0  2\n",
              "148  6.2  3.4  5.4  2.3  2\n",
              "149  5.9  3.0  5.1  1.8  2\n",
              "\n",
              "[150 rows x 5 columns]"
            ]
          },
          "metadata": {
            "tags": []
          },
          "execution_count": 355
        }
      ]
    },
    {
      "cell_type": "markdown",
      "metadata": {
        "id": "MGdaZJ7eGK71"
      },
      "source": [
        "## PL"
      ]
    },
    {
      "cell_type": "code",
      "metadata": {
        "colab": {
          "base_uri": "https://localhost:8080/"
        },
        "id": "jvVQMN8w_1RI",
        "outputId": "147bdafb-407e-4948-f8f7-465719b02387"
      },
      "source": [
        "y = df[\"PL\"] \r\n",
        "X = df[[\"SL\",\"SW\",\"PW\",\"C\"]] \r\n",
        "X_train, X_test, y_tarin, y_test = train_test_split(X, y, test_size = 0.2,random_state=2021) \r\n",
        "\r\n",
        "lr = LinearRegression()\r\n",
        "lr.fit(X_train,y_tarin)"
      ],
      "execution_count": 356,
      "outputs": [
        {
          "output_type": "execute_result",
          "data": {
            "text/plain": [
              "LinearRegression(copy_X=True, fit_intercept=True, n_jobs=None, normalize=False)"
            ]
          },
          "metadata": {
            "tags": []
          },
          "execution_count": 356
        }
      ]
    },
    {
      "cell_type": "code",
      "metadata": {
        "colab": {
          "base_uri": "https://localhost:8080/"
        },
        "id": "MrKbnWsUBzpp",
        "outputId": "76390317-3697-4653-8af3-9ea57e179772"
      },
      "source": [
        "pred = lr.predict(X_test)\r\n",
        "mse = mean_squared_error(y_test,pred)\r\n",
        "r2 = r2_score(y_test,pred)\r\n",
        "print(f'mse : ,{mse:.2f}, RMSE : {np.sqrt(mse):.2f}')\r\n",
        "print(f'R_squared : {r2:.4f}')"
      ],
      "execution_count": 357,
      "outputs": [
        {
          "output_type": "stream",
          "text": [
            "mse : ,0.10, RMSE : 0.31\n",
            "R_squared : 0.9682\n"
          ],
          "name": "stdout"
        }
      ]
    },
    {
      "cell_type": "code",
      "metadata": {
        "colab": {
          "base_uri": "https://localhost:8080/"
        },
        "id": "oW0be3-iDfeX",
        "outputId": "b415022d-93e5-474e-d1ab-b8ff117606d8"
      },
      "source": [
        "lr.coef_"
      ],
      "execution_count": 358,
      "outputs": [
        {
          "output_type": "execute_result",
          "data": {
            "text/plain": [
              "array([ 0.68227323, -0.51925158,  1.11668415,  0.37500635])"
            ]
          },
          "metadata": {
            "tags": []
          },
          "execution_count": 358
        }
      ]
    },
    {
      "cell_type": "code",
      "metadata": {
        "colab": {
          "base_uri": "https://localhost:8080/"
        },
        "id": "wq4ShDlnDo1t",
        "outputId": "7d2ab90f-8ede-47ed-c855-b9423be7faf2"
      },
      "source": [
        "lr.intercept_"
      ],
      "execution_count": 359,
      "outputs": [
        {
          "output_type": "execute_result",
          "data": {
            "text/plain": [
              "-0.36699949396033205"
            ]
          },
          "metadata": {
            "tags": []
          },
          "execution_count": 359
        }
      ]
    },
    {
      "cell_type": "markdown",
      "metadata": {
        "id": "rUBKm9srUM08"
      },
      "source": [
        "- 회기식\r\n",
        "#### 0.737*SL-0.598*SW+1.08*PW+0.353*C-0.36\r\n"
      ]
    },
    {
      "cell_type": "code",
      "metadata": {
        "colab": {
          "base_uri": "https://localhost:8080/"
        },
        "id": "-JEY5agaDsqJ",
        "outputId": "7ed0f97e-ee6b-4caf-95e6-e123417700ef"
      },
      "source": [
        "(lr.coef_* X).sum(axis=1) + lr.intercept_"
      ],
      "execution_count": 360,
      "outputs": [
        {
          "output_type": "execute_result",
          "data": {
            "text/plain": [
              "0      1.518550\n",
              "1      1.641721\n",
              "2      1.401416\n",
              "3      1.385114\n",
              "4      1.398398\n",
              "         ...   \n",
              "145    5.964863\n",
              "146    5.504906\n",
              "147    5.493403\n",
              "148    5.416025\n",
              "149    4.860702\n",
              "Length: 150, dtype: float64"
            ]
          },
          "metadata": {
            "tags": []
          },
          "execution_count": 360
        }
      ]
    },
    {
      "cell_type": "markdown",
      "metadata": {
        "id": "YX_fTKJ0UYYp"
      },
      "source": [
        "교차검증"
      ]
    },
    {
      "cell_type": "code",
      "metadata": {
        "colab": {
          "base_uri": "https://localhost:8080/"
        },
        "id": "1nt5JDXeI4ws",
        "outputId": "e93ccd3d-afb1-40b5-da59-843f47a51dcd"
      },
      "source": [
        "neg_mean_scores = cross_val_score(lr, X, y,\r\n",
        "                                scoring='neg_mean_squared_error', cv=5)\r\n",
        "rmse_scores = np.sqrt(-neg_mean_scores)\r\n",
        "avg_rmse = np.average(rmse_scores)\r\n",
        "\r\n",
        "print('개별 MSE: ',np.round(neg_mean_scores,2))\r\n",
        "print('개별 RMSE: ',np.round(rmse_scores,2))\r\n",
        "print(f'평균 RMSE: {avg_rmse:.4f}')"
      ],
      "execution_count": 334,
      "outputs": [
        {
          "output_type": "stream",
          "text": [
            "개별 MSE:  [-0.06 -0.08 -0.14 -0.1  -0.21]\n",
            "개별 RMSE:  [0.25 0.28 0.38 0.32 0.46]\n",
            "평균 RMSE: 0.3387\n"
          ],
          "name": "stdout"
        }
      ]
    },
    {
      "cell_type": "markdown",
      "metadata": {
        "id": "HGO4KabyGUQi"
      },
      "source": [
        "## SL"
      ]
    },
    {
      "cell_type": "code",
      "metadata": {
        "colab": {
          "base_uri": "https://localhost:8080/"
        },
        "id": "0gkg-iQ_GUAC",
        "outputId": "2e36d4fa-78b7-4b59-d863-fdbcc3b99a3a"
      },
      "source": [
        "y = df[\"SL\"] \r\n",
        "X = df[[\"PL\",\"SW\",\"PW\",\"C\"]] \r\n",
        "\r\n",
        "X_train, X_test, y_tarin, y_test = train_test_split(X, y, test_size = 0.2,random_state=2021) \r\n",
        "\r\n",
        "lr = LinearRegression()\r\n",
        "lr.fit(X_train,y_tarin)"
      ],
      "execution_count": 335,
      "outputs": [
        {
          "output_type": "execute_result",
          "data": {
            "text/plain": [
              "LinearRegression(copy_X=True, fit_intercept=True, n_jobs=None, normalize=False)"
            ]
          },
          "metadata": {
            "tags": []
          },
          "execution_count": 335
        }
      ]
    },
    {
      "cell_type": "code",
      "metadata": {
        "colab": {
          "base_uri": "https://localhost:8080/"
        },
        "id": "QcL6VHNiFKiS",
        "outputId": "3876e2bc-95f9-425d-bf4d-b143b9fb36f5"
      },
      "source": [
        "pred = lr.predict(X_test)\r\n",
        "mse = mean_squared_error(y_test,pred)\r\n",
        "r2 = r2_score(y_test,pred)\r\n",
        "print(f'mse : ,{mse:.2f}, RMSE : {np.sqrt(mse):.2f}')\r\n",
        "print(f'R_squared : {r2:.4f}')"
      ],
      "execution_count": 336,
      "outputs": [
        {
          "output_type": "stream",
          "text": [
            "mse : ,0.10, RMSE : 0.32\n",
            "R_squared : 0.8181\n"
          ],
          "name": "stdout"
        }
      ]
    },
    {
      "cell_type": "code",
      "metadata": {
        "colab": {
          "base_uri": "https://localhost:8080/"
        },
        "id": "KwuKjQiWGkSm",
        "outputId": "1db79386-f1b9-4352-afd1-da8d18a50479"
      },
      "source": [
        "lr.coef_"
      ],
      "execution_count": 337,
      "outputs": [
        {
          "output_type": "execute_result",
          "data": {
            "text/plain": [
              "array([ 0.74311359,  0.62338382, -0.4560811 , -0.17450858])"
            ]
          },
          "metadata": {
            "tags": []
          },
          "execution_count": 337
        }
      ]
    },
    {
      "cell_type": "code",
      "metadata": {
        "colab": {
          "base_uri": "https://localhost:8080/"
        },
        "id": "DYj2Ug3yGltb",
        "outputId": "c9506dba-c46b-4d3c-9429-af9d6c407a9e"
      },
      "source": [
        "lr.intercept_"
      ],
      "execution_count": 338,
      "outputs": [
        {
          "output_type": "execute_result",
          "data": {
            "text/plain": [
              "1.8524911037970018"
            ]
          },
          "metadata": {
            "tags": []
          },
          "execution_count": 338
        }
      ]
    },
    {
      "cell_type": "markdown",
      "metadata": {
        "id": "lvyV_Z6fUiHZ"
      },
      "source": [
        "- 회기식\r\n",
        "#### 0.744*pl+0.5*SW-0.426*PW-0.215*C-1.93"
      ]
    },
    {
      "cell_type": "code",
      "metadata": {
        "colab": {
          "base_uri": "https://localhost:8080/"
        },
        "id": "xTnEGL2UGmuI",
        "outputId": "8b476c5d-7940-4fb4-c14e-93ff714c1405"
      },
      "source": [
        "(lr.coef_* X).sum(axis=1) + lr.intercept_"
      ],
      "execution_count": 339,
      "outputs": [
        {
          "output_type": "execute_result",
          "data": {
            "text/plain": [
              "0      4.983477\n",
              "1      4.671785\n",
              "2      4.722151\n",
              "3      4.808435\n",
              "4      5.045816\n",
              "         ...   \n",
              "145    6.188830\n",
              "146    5.910947\n",
              "147    6.325654\n",
              "148    6.586806\n",
              "149    6.342559\n",
              "Length: 150, dtype: float64"
            ]
          },
          "metadata": {
            "tags": []
          },
          "execution_count": 339
        }
      ]
    },
    {
      "cell_type": "markdown",
      "metadata": {
        "id": "lMPL4P_xU1V_"
      },
      "source": [
        "교차검증"
      ]
    },
    {
      "cell_type": "code",
      "metadata": {
        "colab": {
          "base_uri": "https://localhost:8080/"
        },
        "id": "uAFrxugITD5v",
        "outputId": "8a7494d6-b50e-49e6-fdf5-183548aa26c3"
      },
      "source": [
        "neg_mean_scores = cross_val_score(lr, X, y,\r\n",
        "                                scoring='neg_mean_squared_error', cv=5)\r\n",
        "rmse_scores = np.sqrt(-neg_mean_scores)\r\n",
        "avg_rmse = np.average(rmse_scores)\r\n",
        "\r\n",
        "print('개별 MSE: ',np.round(neg_mean_scores,2))\r\n",
        "print('개별 RMSE: ',np.round(rmse_scores,2))\r\n",
        "print(f'평균 RMSE: {avg_rmse:.4f}')"
      ],
      "execution_count": 340,
      "outputs": [
        {
          "output_type": "stream",
          "text": [
            "개별 MSE:  [-0.06 -0.08 -0.14 -0.1  -0.14]\n",
            "개별 RMSE:  [0.25 0.29 0.37 0.31 0.38]\n",
            "평균 RMSE: 0.3199\n"
          ],
          "name": "stdout"
        }
      ]
    },
    {
      "cell_type": "markdown",
      "metadata": {
        "id": "4ymG-9XgHEO6"
      },
      "source": [
        "## SW"
      ]
    },
    {
      "cell_type": "code",
      "metadata": {
        "colab": {
          "base_uri": "https://localhost:8080/"
        },
        "id": "qacuzYKQGnuD",
        "outputId": "3e2acc88-d00b-46fa-ba3e-93348fbdbcd1"
      },
      "source": [
        "y = df[\"SW\"] \r\n",
        "X = df[[\"PL\",\"SL\",\"PW\",\"C\"]] \r\n",
        "\r\n",
        "X_train, X_test, y_tarin, y_test = train_test_split(X, y, test_size = 0.2,random_state=2021) \r\n",
        "\r\n",
        "lr = LinearRegression()\r\n",
        "lr.fit(X_train,y_tarin)"
      ],
      "execution_count": 341,
      "outputs": [
        {
          "output_type": "execute_result",
          "data": {
            "text/plain": [
              "LinearRegression(copy_X=True, fit_intercept=True, n_jobs=None, normalize=False)"
            ]
          },
          "metadata": {
            "tags": []
          },
          "execution_count": 341
        }
      ]
    },
    {
      "cell_type": "code",
      "metadata": {
        "colab": {
          "base_uri": "https://localhost:8080/"
        },
        "id": "9uLX-7EdHJGC",
        "outputId": "661314cf-08d9-469b-91c4-a920ab1090cc"
      },
      "source": [
        "pred = lr.predict(X_test)\r\n",
        "mse = mean_squared_error(y_test,pred)\r\n",
        "r2 = r2_score(y_test,pred)\r\n",
        "print(f'mse : ,{mse:.2f}, RMSE : {np.sqrt(mse):.2f}')\r\n",
        "print(f'R_squared : {r2:.4f}')"
      ],
      "execution_count": 342,
      "outputs": [
        {
          "output_type": "stream",
          "text": [
            "mse : ,0.10, RMSE : 0.31\n",
            "R_squared : 0.4639\n"
          ],
          "name": "stdout"
        }
      ]
    },
    {
      "cell_type": "code",
      "metadata": {
        "colab": {
          "base_uri": "https://localhost:8080/"
        },
        "id": "YgLyIM7UHJYc",
        "outputId": "1cefabc5-d18d-4b4f-b4e1-a8867533a204"
      },
      "source": [
        "lr.coef_"
      ],
      "execution_count": 343,
      "outputs": [
        {
          "output_type": "execute_result",
          "data": {
            "text/plain": [
              "array([-0.54159643,  0.6062082 ,  0.68893796, -0.22240148])"
            ]
          },
          "metadata": {
            "tags": []
          },
          "execution_count": 343
        }
      ]
    },
    {
      "cell_type": "code",
      "metadata": {
        "colab": {
          "base_uri": "https://localhost:8080/"
        },
        "id": "wSK6RkVbHLiu",
        "outputId": "6c35bc7d-177b-4247-9c2c-6c3cc0e15156"
      },
      "source": [
        "lr.intercept_"
      ],
      "execution_count": 344,
      "outputs": [
        {
          "output_type": "execute_result",
          "data": {
            "text/plain": [
              "0.9363345581710063"
            ]
          },
          "metadata": {
            "tags": []
          },
          "execution_count": 344
        }
      ]
    },
    {
      "cell_type": "markdown",
      "metadata": {
        "id": "egRTZwcmU5Mq"
      },
      "source": [
        "- 회기식\r\n",
        "#### -0.546*PL+0.606*SL+0.689*PW-0.222*C+0.936"
      ]
    },
    {
      "cell_type": "code",
      "metadata": {
        "colab": {
          "base_uri": "https://localhost:8080/"
        },
        "id": "YlGku4zwHLxA",
        "outputId": "48f6cfc3-8144-4b5c-e929-c6804b4a18b1"
      },
      "source": [
        "(lr.coef_* X).sum(axis=1) + lr.intercept_"
      ],
      "execution_count": 345,
      "outputs": [
        {
          "output_type": "execute_result",
          "data": {
            "text/plain": [
              "0      3.407549\n",
              "1      3.286307\n",
              "2      3.219225\n",
              "3      3.050285\n",
              "4      3.346928\n",
              "         ...   \n",
              "145    3.321382\n",
              "146    2.911643\n",
              "147    2.993459\n",
              "148    2.909959\n",
              "149    2.546107\n",
              "Length: 150, dtype: float64"
            ]
          },
          "metadata": {
            "tags": []
          },
          "execution_count": 345
        }
      ]
    },
    {
      "cell_type": "markdown",
      "metadata": {
        "id": "aWr7sUQLVN3j"
      },
      "source": [
        "교차검증"
      ]
    },
    {
      "cell_type": "code",
      "metadata": {
        "colab": {
          "base_uri": "https://localhost:8080/"
        },
        "id": "1LFl2fduTFUV",
        "outputId": "871d2c61-ac23-4b1c-9a67-c87bb21b8ad4"
      },
      "source": [
        "neg_mean_scores = cross_val_score(lr, X, y,\r\n",
        "                                scoring='neg_mean_squared_error', cv=5)\r\n",
        "rmse_scores = np.sqrt(-neg_mean_scores)\r\n",
        "avg_rmse = np.average(rmse_scores)\r\n",
        "\r\n",
        "print('개별 MSE: ',np.round(neg_mean_scores,2))\r\n",
        "print('개별 RMSE: ',np.round(rmse_scores,2))\r\n",
        "print(f'평균 RMSE: {avg_rmse:.4f}')"
      ],
      "execution_count": 346,
      "outputs": [
        {
          "output_type": "stream",
          "text": [
            "개별 MSE:  [-0.08 -0.11 -0.16 -0.08 -0.11]\n",
            "개별 RMSE:  [0.28 0.33 0.41 0.29 0.33]\n",
            "평균 RMSE: 0.3289\n"
          ],
          "name": "stdout"
        }
      ]
    },
    {
      "cell_type": "markdown",
      "metadata": {
        "id": "ofnMJNT7H8Kb"
      },
      "source": [
        "## PW"
      ]
    },
    {
      "cell_type": "code",
      "metadata": {
        "colab": {
          "base_uri": "https://localhost:8080/"
        },
        "id": "ZWIjV1qvHM62",
        "outputId": "3755c480-2b57-44ec-fca3-58a74e7fff7c"
      },
      "source": [
        "y = df[\"SW\"] # 종속변수 설정\r\n",
        "X = df[[\"PL\",\"SL\",\"PW\",\"C\"]] \r\n",
        "\r\n",
        "X_train, X_test, y_tarin, y_test = train_test_split(X, y, test_size = 0.2,random_state=2021) \r\n",
        "\r\n",
        "lr = LinearRegression()\r\n",
        "lr.fit(X_train,y_tarin)"
      ],
      "execution_count": 347,
      "outputs": [
        {
          "output_type": "execute_result",
          "data": {
            "text/plain": [
              "LinearRegression(copy_X=True, fit_intercept=True, n_jobs=None, normalize=False)"
            ]
          },
          "metadata": {
            "tags": []
          },
          "execution_count": 347
        }
      ]
    },
    {
      "cell_type": "code",
      "metadata": {
        "colab": {
          "base_uri": "https://localhost:8080/"
        },
        "id": "g4RpwvOjH-mx",
        "outputId": "9ac7f83e-7147-4666-c5d9-a2f93114fd7e"
      },
      "source": [
        "pred = lr.predict(X_test)\r\n",
        "mse = mean_squared_error(y_test,pred)\r\n",
        "r2 = r2_score(y_test,pred)\r\n",
        "print(f'mse : ,{mse:.2f}, RMSE : {np.sqrt(mse):.2f}')\r\n",
        "print(f'R_squared : {r2:.4f}')"
      ],
      "execution_count": 348,
      "outputs": [
        {
          "output_type": "stream",
          "text": [
            "mse : ,0.08, RMSE : 0.28\n",
            "R_squared : 0.4935\n"
          ],
          "name": "stdout"
        }
      ]
    },
    {
      "cell_type": "code",
      "metadata": {
        "colab": {
          "base_uri": "https://localhost:8080/"
        },
        "id": "bqg1EAoKICE-",
        "outputId": "08c258da-45e6-46de-afe6-8873564ce28b"
      },
      "source": [
        "lr.coef_"
      ],
      "execution_count": 349,
      "outputs": [
        {
          "output_type": "execute_result",
          "data": {
            "text/plain": [
              "array([-0.64724017,  0.60817935,  0.65116816,  0.04421472])"
            ]
          },
          "metadata": {
            "tags": []
          },
          "execution_count": 349
        }
      ]
    },
    {
      "cell_type": "code",
      "metadata": {
        "colab": {
          "base_uri": "https://localhost:8080/"
        },
        "id": "sQ3r6HesIEo4",
        "outputId": "35f749df-21f2-456e-978b-fa2d4ba2bf58"
      },
      "source": [
        "lr.intercept_"
      ],
      "execution_count": 350,
      "outputs": [
        {
          "output_type": "execute_result",
          "data": {
            "text/plain": [
              "1.1042041701845056"
            ]
          },
          "metadata": {
            "tags": []
          },
          "execution_count": 350
        }
      ]
    },
    {
      "cell_type": "markdown",
      "metadata": {
        "id": "OTCGHgMWVRCh"
      },
      "source": [
        "- 회기식\r\n",
        "#### -0.647*PL+0.608*SL+0.651*PW-0.044*C+1.104"
      ]
    },
    {
      "cell_type": "code",
      "metadata": {
        "colab": {
          "base_uri": "https://localhost:8080/"
        },
        "id": "hU8s89WdIF5u",
        "outputId": "339895a8-071d-43e9-b62a-e86e15d51c03"
      },
      "source": [
        "(lr.coef_* X).sum(axis=1) + lr.intercept_"
      ],
      "execution_count": 351,
      "outputs": [
        {
          "output_type": "execute_result",
          "data": {
            "text/plain": [
              "0      3.430016\n",
              "1      3.308380\n",
              "2      3.251469\n",
              "3      3.061203\n",
              "4      3.369198\n",
              "         ...   \n",
              "145    3.399473\n",
              "146    3.025182\n",
              "147    3.082487\n",
              "148    2.965935\n",
              "149    2.652070\n",
              "Length: 150, dtype: float64"
            ]
          },
          "metadata": {
            "tags": []
          },
          "execution_count": 351
        }
      ]
    },
    {
      "cell_type": "code",
      "metadata": {
        "colab": {
          "base_uri": "https://localhost:8080/"
        },
        "id": "L6Ftd-fKIHBf",
        "outputId": "23b8f07c-0f32-4d1a-c9be-f2dbf0f79c97"
      },
      "source": [
        "neg_mean_scores = cross_val_score(lr, X, y,\r\n",
        "                                scoring='neg_mean_squared_error', cv=5)\r\n",
        "rmse_scores = np.sqrt(-neg_mean_scores)\r\n",
        "avg_rmse = np.average(rmse_scores)\r\n",
        "\r\n",
        "print('개별 MSE: ',np.round(neg_mean_scores,2))\r\n",
        "print('개별 RMSE: ',np.round(rmse_scores,2))\r\n",
        "print(f'평균 RMSE: {avg_rmse:.4f}')"
      ],
      "execution_count": 352,
      "outputs": [
        {
          "output_type": "stream",
          "text": [
            "개별 MSE:  [-0.08 -0.11 -0.16 -0.08 -0.11]\n",
            "개별 RMSE:  [0.28 0.33 0.41 0.29 0.33]\n",
            "평균 RMSE: 0.3289\n"
          ],
          "name": "stdout"
        }
      ]
    }
  ]
}