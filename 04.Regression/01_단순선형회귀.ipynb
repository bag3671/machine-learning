{
  "nbformat": 4,
  "nbformat_minor": 0,
  "metadata": {
    "colab": {
      "name": "01_단순선형회귀.ipynb",
      "private_outputs": true,
      "provenance": []
    },
    "kernelspec": {
      "name": "python3",
      "display_name": "Python 3"
    }
  },
  "cells": [
    {
      "cell_type": "code",
      "metadata": {
        "id": "rOZg5qco7fIX"
      },
      "source": [
        "import numpy as np\r\n",
        "import pandas as pd\r\n",
        "import matplotlib.pyplot as plt\r\n",
        "%matplotlib inline"
      ],
      "execution_count": null,
      "outputs": []
    },
    {
      "cell_type": "code",
      "metadata": {
        "id": "92yL76iN7yLy"
      },
      "source": [
        "df = pd.read_csv('http://www.randomservices.org/random/data/Galton.txt',sep='\\t')"
      ],
      "execution_count": null,
      "outputs": []
    },
    {
      "cell_type": "code",
      "metadata": {
        "id": "N4jYB__k7_xk"
      },
      "source": [
        "df.head()"
      ],
      "execution_count": null,
      "outputs": []
    },
    {
      "cell_type": "code",
      "metadata": {
        "id": "CQg6y40t8EDu"
      },
      "source": [
        "df.info()"
      ],
      "execution_count": null,
      "outputs": []
    },
    {
      "cell_type": "code",
      "metadata": {
        "id": "_RYxnHJq8Gvn"
      },
      "source": [
        "df = df[df.Gender=='M']\r\n",
        "height = df[['Father','Height']].rename(columns={'Height':'Son'})\r\n",
        "height.Father = height.Father * 2.54\r\n",
        "height.Son = height.Son * 2.54\r\n",
        "height.describe()"
      ],
      "execution_count": null,
      "outputs": []
    },
    {
      "cell_type": "code",
      "metadata": {
        "id": "y31ZTvmZ8ztv"
      },
      "source": [
        "plt.figure(figsize=(8,7))\r\n",
        "plt.scatter(height.Father, height.Son)\r\n",
        "plt.title('The height of Father and Son')\r\n",
        "plt.xlabel(\"Father's height (cm)\"); plt.ylabel(\"Son's height (cm)\")\r\n",
        "plt.grid(); plt.show()\r\n"
      ],
      "execution_count": null,
      "outputs": []
    },
    {
      "cell_type": "markdown",
      "metadata": {
        "id": "MAI11EjtAuC1"
      },
      "source": [
        "# Numpy를 이용해 회기선 만들기 "
      ]
    },
    {
      "cell_type": "code",
      "metadata": {
        "id": "grOUv6Ln9QEr"
      },
      "source": [
        "A = np.vstack([height.Father, np.ones(len(height.Father))]).T\r\n",
        "reg = np.linalg.lstsq(A, height.Son, rcond=None)\r\n",
        "reg"
      ],
      "execution_count": null,
      "outputs": []
    },
    {
      "cell_type": "code",
      "metadata": {
        "id": "ucmdt-U59kFi"
      },
      "source": [
        "m, c = reg[0]\r\n",
        "rss = reg[1][0]\r\n",
        "print(f'기울기: {m:.4f}, 절편: {c:.4f}, 잔차제곱: {rss:.2f}')"
      ],
      "execution_count": null,
      "outputs": []
    },
    {
      "cell_type": "markdown",
      "metadata": {
        "id": "25_QUFlmExOd"
      },
      "source": [
        "### 최소자승법"
      ]
    },
    {
      "cell_type": "code",
      "metadata": {
        "id": "lszGfclR_sqx"
      },
      "source": [
        "plt.figure(figsize=(8,7))\r\n",
        "plt.scatter(height.Father, height.Son)\r\n",
        "plt.plot([150, 200], [m*150+c, m*200+c], 'r', lw=3)\r\n",
        "plt.title('The height of Father and Son')\r\n",
        "plt.xlabel(\"Father's height (cm)\"); plt.ylabel(\"Son's height (cm)\")\r\n",
        "plt.grid(); plt.show()"
      ],
      "execution_count": null,
      "outputs": []
    },
    {
      "cell_type": "markdown",
      "metadata": {
        "id": "dbHT3lIQFaxN"
      },
      "source": [
        "# Scikit-Learn을 이용해서 구하기"
      ]
    },
    {
      "cell_type": "code",
      "metadata": {
        "id": "ZgsdPzCOA4TI"
      },
      "source": [
        "from sklearn.linear_model import LinearRegression\r\n",
        "X = height.Father.values.reshape(-1,1)\r\n",
        "y = height.Son.values\r\n",
        "lr = LinearRegression()\r\n",
        "lr.fit(X, y)\r\n",
        "weight, bias, rss = lr.coef_, lr.intercept_, lr._residues\r\n",
        "print(f'기울기: {weight[0]:.4f}, 절편: {bias:.4f}, 잔차제곱: {rss:.2f}')\r\n",
        "score = lr.score(X, y)\r\n",
        "print(f'R_squared score: {score:.4f}')"
      ],
      "execution_count": null,
      "outputs": []
    },
    {
      "cell_type": "code",
      "metadata": {
        "id": "pRMZEOX2FhU7"
      },
      "source": [
        "import sklearn.datasets\r\n",
        "diabetes = sklearn.datasets.load_diabetes()"
      ],
      "execution_count": null,
      "outputs": []
    },
    {
      "cell_type": "markdown",
      "metadata": {
        "id": "WO7J6RDJb9E3"
      },
      "source": [
        "# 회기표본 만들기"
      ]
    },
    {
      "cell_type": "code",
      "metadata": {
        "id": "COQlurw6XbOy"
      },
      "source": [
        "from sklearn.datasets import make_regression"
      ],
      "execution_count": null,
      "outputs": []
    },
    {
      "cell_type": "code",
      "metadata": {
        "id": "UpJy9bxwZjyo"
      },
      "source": [
        "X, y = make_regression(n_samples=100,n_features=1,n_targets=1,random_state=2021,noise=100)"
      ],
      "execution_count": null,
      "outputs": []
    },
    {
      "cell_type": "code",
      "metadata": {
        "id": "uJf8RACyaaYN"
      },
      "source": [
        "plt.scatter(X,y)"
      ],
      "execution_count": null,
      "outputs": []
    },
    {
      "cell_type": "code",
      "metadata": {
        "id": "zCS9QZYUaaz0"
      },
      "source": [
        ""
      ],
      "execution_count": null,
      "outputs": []
    }
  ]
}