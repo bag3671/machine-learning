{
  "nbformat": 4,
  "nbformat_minor": 0,
  "metadata": {
    "colab": {
      "name": "20210113wine과제.ipynb",
      "provenance": [],
      "collapsed_sections": []
    },
    "kernelspec": {
      "name": "python3",
      "display_name": "Python 3"
    }
  },
  "cells": [
    {
      "cell_type": "code",
      "metadata": {
        "id": "ZY6dWnqQBY4m"
      },
      "source": [
        "import numpy as np\r\n",
        "import pandas as pd \r\n",
        "import matplotlib.pyplot as plt\r\n",
        "%matplotlib inline"
      ],
      "execution_count": 157,
      "outputs": []
    },
    {
      "cell_type": "code",
      "metadata": {
        "id": "ZCk_sMPUBdUJ"
      },
      "source": [
        "from sklearn.datasets import load_wine\r\n",
        "from sklearn.preprocessing import StandardScaler\r\n",
        "wine = load_wine()\r\n",
        "scaler = StandardScaler()\r\n",
        "wine_std = scaler.fit_transform(wine.data)\r\n",
        "df = pd.DataFrame(wine_std, columns=wine.feature_names)"
      ],
      "execution_count": 158,
      "outputs": []
    },
    {
      "cell_type": "code",
      "metadata": {
        "id": "zf5tBAkmdLwx"
      },
      "source": [
        "from sklearn.decomposition import PCA\r\n",
        "pca = PCA()\r\n",
        "wine_pca = pca.fit_transform(wine_std)"
      ],
      "execution_count": 159,
      "outputs": []
    },
    {
      "cell_type": "markdown",
      "metadata": {
        "id": "rBBSR8f2BVw7"
      },
      "source": [
        "### 차원 축소와 분류 정확도"
      ]
    },
    {
      "cell_type": "code",
      "metadata": {
        "id": "lxHa0FkTBVw8"
      },
      "source": [
        "from sklearn.model_selection import train_test_split\n",
        "from sklearn.tree import DecisionTreeClassifier\n",
        "from sklearn.metrics import accuracy_score\n",
        "\n",
        "def pca_accuracy(X, y):\n",
        "    X_train, X_test, y_train, y_test = train_test_split(\n",
        "        X, y, stratify=y, test_size=0.3, random_state=2021\n",
        "    )\n",
        "    dtc = DecisionTreeClassifier(random_state=2021)\n",
        "    dtc.fit(X_train, y_train)\n",
        "    pred = dtc.predict(X_test)\n",
        "    acc = accuracy_score(y_test, pred)\n",
        "    return np.round(acc, 4)"
      ],
      "execution_count": 160,
      "outputs": []
    },
    {
      "cell_type": "code",
      "metadata": {
        "id": "70P5TZUHBVw8",
        "colab": {
          "base_uri": "https://localhost:8080/"
        },
        "outputId": "db46131e-404e-4c06-ad15-625369ed2317"
      },
      "source": [
        "for dim in [2, 5, 10]:\n",
        "    globals()[f'pca{dim}'] = PCA(n_components=dim)\n",
        "    globals()[f'winePCA{dim}'] = globals()[f'pca{dim}'].fit_transform(wine_std)\n",
        "    acc = pca_accuracy(globals()[f'winePCA{dim}'], wine.target)\n",
        "    print(f'PCA {dim} 정확도: {acc}')\n",
        "print('원데이터 정확도:', pca_accuracy(wine_std, wine.target))"
      ],
      "execution_count": 161,
      "outputs": [
        {
          "output_type": "stream",
          "text": [
            "PCA 2 정확도: 0.9074\n",
            "PCA 5 정확도: 0.9444\n",
            "PCA 10 정확도: 0.9444\n",
            "원데이터 정확도: 0.8519\n"
          ],
          "name": "stdout"
        }
      ]
    },
    {
      "cell_type": "markdown",
      "metadata": {
        "id": "HO2XrY29BVw9"
      },
      "source": [
        "### 2차원 축소 데이터 시각화"
      ]
    },
    {
      "cell_type": "code",
      "metadata": {
        "id": "t7AoHnulBVw9"
      },
      "source": [
        "wine_pca_df = pd.DataFrame(data=winePCA2, columns=['PC1','PC2'])\n",
        "wine_pca_df['target'] = wine.target"
      ],
      "execution_count": 162,
      "outputs": []
    },
    {
      "cell_type": "code",
      "metadata": {
        "colab": {
          "base_uri": "https://localhost:8080/"
        },
        "id": "1ja0yNPZNBic",
        "outputId": "d99f7dfd-bcf7-4342-8bad-8564c37e2d45"
      },
      "source": [
        "wine.target_names"
      ],
      "execution_count": 163,
      "outputs": [
        {
          "output_type": "execute_result",
          "data": {
            "text/plain": [
              "array(['class_0', 'class_1', 'class_2'], dtype='<U7')"
            ]
          },
          "metadata": {
            "tags": []
          },
          "execution_count": 163
        }
      ]
    },
    {
      "cell_type": "code",
      "metadata": {
        "id": "Byf2-zizBVw-",
        "colab": {
          "base_uri": "https://localhost:8080/",
          "height": 279
        },
        "outputId": "490c74a4-89b8-4a6b-cc5e-6e13ab669468"
      },
      "source": [
        "markers=['^', 'o','s']\n",
        "\n",
        "# PC1 을 x축, PC2를 y축으로 scatter plot 수행. \n",
        "for i, marker in enumerate(markers):\n",
        "    x_axis_data = wine_pca_df[wine_pca_df['target']==i]['PC1']\n",
        "    y_axis_data = wine_pca_df[wine_pca_df['target']==i]['PC2']\n",
        "    plt.scatter(x_axis_data, y_axis_data, marker=marker,\n",
        "                label=wine.target_names[i])\n",
        "\n",
        "plt.legend()\n",
        "plt.xlabel('PCA Component 1')\n",
        "plt.ylabel('PCA Component 2')\n",
        "plt.show()"
      ],
      "execution_count": 164,
      "outputs": [
        {
          "output_type": "display_data",
          "data": {
            "image/png": "[encoded data removed]",
            "text/plain": [
              "<Figure size 432x288 with 1 Axes>"
            ]
          },
          "metadata": {
            "tags": [],
            "needs_background": "light"
          }
        }
      ]
    },
    {
      "cell_type": "markdown",
      "metadata": {
        "id": "cX15lChQDUSU"
      },
      "source": [
        "## KMeans"
      ]
    },
    {
      "cell_type": "code",
      "metadata": {
        "colab": {
          "base_uri": "https://localhost:8080/"
        },
        "id": "flaAUfGWfQ6y",
        "outputId": "84970927-1b70-4e39-8734-b9b8aea89716"
      },
      "source": [
        "from sklearn.cluster import KMeans\r\n",
        "kmeans = KMeans(n_clusters=3,random_state=2021)\r\n",
        "kmeans.fit(df)"
      ],
      "execution_count": 165,
      "outputs": [
        {
          "output_type": "execute_result",
          "data": {
            "text/plain": [
              "KMeans(algorithm='auto', copy_x=True, init='k-means++', max_iter=300,\n",
              "       n_clusters=3, n_init=10, n_jobs=None, precompute_distances='auto',\n",
              "       random_state=2021, tol=0.0001, verbose=0)"
            ]
          },
          "metadata": {
            "tags": []
          },
          "execution_count": 165
        }
      ]
    },
    {
      "cell_type": "code",
      "metadata": {
        "id": "nkI_UAflfTNi",
        "colab": {
          "base_uri": "https://localhost:8080/",
          "height": 224
        },
        "outputId": "3d12c44b-f456-4326-c7c3-52a5372f986a"
      },
      "source": [
        "df['target'] = wine.target    # 실제 target Class\r\n",
        "df['cluster'] = kmeans.labels_  # Clustering 결과 도출된 Class  \r\n",
        "df.sample(5)"
      ],
      "execution_count": 166,
      "outputs": [
        {
          "output_type": "execute_result",
          "data": {
            "text/html": [
              "<div>\n",
              "<style scoped>\n",
              "    .dataframe tbody tr th:only-of-type {\n",
              "        vertical-align: middle;\n",
              "    }\n",
              "\n",
              "    .dataframe tbody tr th {\n",
              "        vertical-align: top;\n",
              "    }\n",
              "\n",
              "    .dataframe thead th {\n",
              "        text-align: right;\n",
              "    }\n",
              "</style>\n",
              "<table border=\"1\" class=\"dataframe\">\n",
              "  <thead>\n",
              "    <tr style=\"text-align: right;\">\n",
              "      <th></th>\n",
              "      <th>alcohol</th>\n",
              "      <th>malic_acid</th>\n",
              "      <th>ash</th>\n",
              "      <th>alcalinity_of_ash</th>\n",
              "      <th>magnesium</th>\n",
              "      <th>total_phenols</th>\n",
              "      <th>flavanoids</th>\n",
              "      <th>nonflavanoid_phenols</th>\n",
              "      <th>proanthocyanins</th>\n",
              "      <th>color_intensity</th>\n",
              "      <th>hue</th>\n",
              "      <th>od280/od315_of_diluted_wines</th>\n",
              "      <th>proline</th>\n",
              "      <th>target</th>\n",
              "      <th>cluster</th>\n",
              "    </tr>\n",
              "  </thead>\n",
              "  <tbody>\n",
              "    <tr>\n",
              "      <th>23</th>\n",
              "      <td>-0.186053</td>\n",
              "      <td>-0.660993</td>\n",
              "      <td>0.561033</td>\n",
              "      <td>-0.508966</td>\n",
              "      <td>-0.332922</td>\n",
              "      <td>0.296251</td>\n",
              "      <td>0.342082</td>\n",
              "      <td>-0.820719</td>\n",
              "      <td>-0.229346</td>\n",
              "      <td>-0.487978</td>\n",
              "      <td>0.581544</td>\n",
              "      <td>1.438311</td>\n",
              "      <td>0.853784</td>\n",
              "      <td>0</td>\n",
              "      <td>1</td>\n",
              "    </tr>\n",
              "    <tr>\n",
              "      <th>102</th>\n",
              "      <td>-0.816038</td>\n",
              "      <td>0.102021</td>\n",
              "      <td>0.341713</td>\n",
              "      <td>0.451946</td>\n",
              "      <td>-0.122282</td>\n",
              "      <td>0.424438</td>\n",
              "      <td>0.081051</td>\n",
              "      <td>-0.176095</td>\n",
              "      <td>-0.492158</td>\n",
              "      <td>-0.976782</td>\n",
              "      <td>-0.690784</td>\n",
              "      <td>1.085200</td>\n",
              "      <td>-0.983669</td>\n",
              "      <td>1</td>\n",
              "      <td>2</td>\n",
              "    </tr>\n",
              "    <tr>\n",
              "      <th>135</th>\n",
              "      <td>-0.494869</td>\n",
              "      <td>0.110998</td>\n",
              "      <td>-0.608676</td>\n",
              "      <td>-0.298767</td>\n",
              "      <td>-0.403135</td>\n",
              "      <td>-1.081754</td>\n",
              "      <td>-1.374701</td>\n",
              "      <td>2.160669</td>\n",
              "      <td>-1.140430</td>\n",
              "      <td>0.883269</td>\n",
              "      <td>-0.997898</td>\n",
              "      <td>-1.457197</td>\n",
              "      <td>-0.165254</td>\n",
              "      <td>2</td>\n",
              "      <td>0</td>\n",
              "    </tr>\n",
              "    <tr>\n",
              "      <th>61</th>\n",
              "      <td>-0.445459</td>\n",
              "      <td>-0.876432</td>\n",
              "      <td>-1.266637</td>\n",
              "      <td>-0.809251</td>\n",
              "      <td>0.018145</td>\n",
              "      <td>-0.440821</td>\n",
              "      <td>-0.621726</td>\n",
              "      <td>1.354888</td>\n",
              "      <td>-1.701097</td>\n",
              "      <td>0.299300</td>\n",
              "      <td>0.098937</td>\n",
              "      <td>-1.443072</td>\n",
              "      <td>-0.945455</td>\n",
              "      <td>1</td>\n",
              "      <td>0</td>\n",
              "    </tr>\n",
              "    <tr>\n",
              "      <th>91</th>\n",
              "      <td>-1.236028</td>\n",
              "      <td>-0.741782</td>\n",
              "      <td>0.195499</td>\n",
              "      <td>0.752231</td>\n",
              "      <td>-0.964842</td>\n",
              "      <td>-1.354150</td>\n",
              "      <td>-0.782361</td>\n",
              "      <td>1.113154</td>\n",
              "      <td>0.068508</td>\n",
              "      <td>-0.630726</td>\n",
              "      <td>0.406051</td>\n",
              "      <td>0.054117</td>\n",
              "      <td>-0.945455</td>\n",
              "      <td>1</td>\n",
              "      <td>2</td>\n",
              "    </tr>\n",
              "  </tbody>\n",
              "</table>\n",
              "</div>"
            ],
            "text/plain": [
              "      alcohol  malic_acid       ash  ...   proline  target  cluster\n",
              "23  -0.186053   -0.660993  0.561033  ...  0.853784       0        1\n",
              "102 -0.816038    0.102021  0.341713  ... -0.983669       1        2\n",
              "135 -0.494869    0.110998 -0.608676  ... -0.165254       2        0\n",
              "61  -0.445459   -0.876432 -1.266637  ... -0.945455       1        0\n",
              "91  -1.236028   -0.741782  0.195499  ... -0.945455       1        2\n",
              "\n",
              "[5 rows x 15 columns]"
            ]
          },
          "metadata": {
            "tags": []
          },
          "execution_count": 166
        }
      ]
    },
    {
      "cell_type": "code",
      "metadata": {
        "colab": {
          "base_uri": "https://localhost:8080/"
        },
        "id": "bAkk9BbeWU2Z",
        "outputId": "90221d5b-7fdc-4192-c76c-dfb39fc896e0"
      },
      "source": [
        "wine.target_names"
      ],
      "execution_count": 167,
      "outputs": [
        {
          "output_type": "execute_result",
          "data": {
            "text/plain": [
              "array(['class_0', 'class_1', 'class_2'], dtype='<U7')"
            ]
          },
          "metadata": {
            "tags": []
          },
          "execution_count": 167
        }
      ]
    },
    {
      "cell_type": "code",
      "metadata": {
        "colab": {
          "base_uri": "https://localhost:8080/"
        },
        "id": "jdFJu0yzWD7b",
        "outputId": "53d940fc-7200-4dcc-bbe6-736d6e598212"
      },
      "source": [
        "df['cluster'].unique(), df['target'].unique()"
      ],
      "execution_count": 168,
      "outputs": [
        {
          "output_type": "execute_result",
          "data": {
            "text/plain": [
              "(array([1, 2, 0], dtype=int32), array([0, 1, 2]))"
            ]
          },
          "metadata": {
            "tags": []
          },
          "execution_count": 168
        }
      ]
    },
    {
      "cell_type": "code",
      "metadata": {
        "colab": {
          "base_uri": "https://localhost:8080/",
          "height": 224
        },
        "id": "cYyD9MRfWuwJ",
        "outputId": "75f64286-5c4a-4e23-b5c3-166c018df7eb"
      },
      "source": [
        "df['pca_x'] = wine_pca[:,0]\r\n",
        "df['pca_y'] = wine_pca[:,1]\r\n",
        "df.head()"
      ],
      "execution_count": 169,
      "outputs": [
        {
          "output_type": "execute_result",
          "data": {
            "text/html": [
              "<div>\n",
              "<style scoped>\n",
              "    .dataframe tbody tr th:only-of-type {\n",
              "        vertical-align: middle;\n",
              "    }\n",
              "\n",
              "    .dataframe tbody tr th {\n",
              "        vertical-align: top;\n",
              "    }\n",
              "\n",
              "    .dataframe thead th {\n",
              "        text-align: right;\n",
              "    }\n",
              "</style>\n",
              "<table border=\"1\" class=\"dataframe\">\n",
              "  <thead>\n",
              "    <tr style=\"text-align: right;\">\n",
              "      <th></th>\n",
              "      <th>alcohol</th>\n",
              "      <th>malic_acid</th>\n",
              "      <th>ash</th>\n",
              "      <th>alcalinity_of_ash</th>\n",
              "      <th>magnesium</th>\n",
              "      <th>total_phenols</th>\n",
              "      <th>flavanoids</th>\n",
              "      <th>nonflavanoid_phenols</th>\n",
              "      <th>proanthocyanins</th>\n",
              "      <th>color_intensity</th>\n",
              "      <th>hue</th>\n",
              "      <th>od280/od315_of_diluted_wines</th>\n",
              "      <th>proline</th>\n",
              "      <th>target</th>\n",
              "      <th>cluster</th>\n",
              "      <th>pca_x</th>\n",
              "      <th>pca_y</th>\n",
              "    </tr>\n",
              "  </thead>\n",
              "  <tbody>\n",
              "    <tr>\n",
              "      <th>0</th>\n",
              "      <td>1.518613</td>\n",
              "      <td>-0.562250</td>\n",
              "      <td>0.232053</td>\n",
              "      <td>-1.169593</td>\n",
              "      <td>1.913905</td>\n",
              "      <td>0.808997</td>\n",
              "      <td>1.034819</td>\n",
              "      <td>-0.659563</td>\n",
              "      <td>1.224884</td>\n",
              "      <td>0.251717</td>\n",
              "      <td>0.362177</td>\n",
              "      <td>1.847920</td>\n",
              "      <td>1.013009</td>\n",
              "      <td>0</td>\n",
              "      <td>1</td>\n",
              "      <td>3.316751</td>\n",
              "      <td>-1.443463</td>\n",
              "    </tr>\n",
              "    <tr>\n",
              "      <th>1</th>\n",
              "      <td>0.246290</td>\n",
              "      <td>-0.499413</td>\n",
              "      <td>-0.827996</td>\n",
              "      <td>-2.490847</td>\n",
              "      <td>0.018145</td>\n",
              "      <td>0.568648</td>\n",
              "      <td>0.733629</td>\n",
              "      <td>-0.820719</td>\n",
              "      <td>-0.544721</td>\n",
              "      <td>-0.293321</td>\n",
              "      <td>0.406051</td>\n",
              "      <td>1.113449</td>\n",
              "      <td>0.965242</td>\n",
              "      <td>0</td>\n",
              "      <td>1</td>\n",
              "      <td>2.209465</td>\n",
              "      <td>0.333393</td>\n",
              "    </tr>\n",
              "    <tr>\n",
              "      <th>2</th>\n",
              "      <td>0.196879</td>\n",
              "      <td>0.021231</td>\n",
              "      <td>1.109334</td>\n",
              "      <td>-0.268738</td>\n",
              "      <td>0.088358</td>\n",
              "      <td>0.808997</td>\n",
              "      <td>1.215533</td>\n",
              "      <td>-0.498407</td>\n",
              "      <td>2.135968</td>\n",
              "      <td>0.269020</td>\n",
              "      <td>0.318304</td>\n",
              "      <td>0.788587</td>\n",
              "      <td>1.395148</td>\n",
              "      <td>0</td>\n",
              "      <td>1</td>\n",
              "      <td>2.516740</td>\n",
              "      <td>-1.031151</td>\n",
              "    </tr>\n",
              "    <tr>\n",
              "      <th>3</th>\n",
              "      <td>1.691550</td>\n",
              "      <td>-0.346811</td>\n",
              "      <td>0.487926</td>\n",
              "      <td>-0.809251</td>\n",
              "      <td>0.930918</td>\n",
              "      <td>2.491446</td>\n",
              "      <td>1.466525</td>\n",
              "      <td>-0.981875</td>\n",
              "      <td>1.032155</td>\n",
              "      <td>1.186068</td>\n",
              "      <td>-0.427544</td>\n",
              "      <td>1.184071</td>\n",
              "      <td>2.334574</td>\n",
              "      <td>0</td>\n",
              "      <td>1</td>\n",
              "      <td>3.757066</td>\n",
              "      <td>-2.756372</td>\n",
              "    </tr>\n",
              "    <tr>\n",
              "      <th>4</th>\n",
              "      <td>0.295700</td>\n",
              "      <td>0.227694</td>\n",
              "      <td>1.840403</td>\n",
              "      <td>0.451946</td>\n",
              "      <td>1.281985</td>\n",
              "      <td>0.808997</td>\n",
              "      <td>0.663351</td>\n",
              "      <td>0.226796</td>\n",
              "      <td>0.401404</td>\n",
              "      <td>-0.319276</td>\n",
              "      <td>0.362177</td>\n",
              "      <td>0.449601</td>\n",
              "      <td>-0.037874</td>\n",
              "      <td>0</td>\n",
              "      <td>1</td>\n",
              "      <td>1.008908</td>\n",
              "      <td>-0.869831</td>\n",
              "    </tr>\n",
              "  </tbody>\n",
              "</table>\n",
              "</div>"
            ],
            "text/plain": [
              "    alcohol  malic_acid       ash  ...  cluster     pca_x     pca_y\n",
              "0  1.518613   -0.562250  0.232053  ...        1  3.316751 -1.443463\n",
              "1  0.246290   -0.499413 -0.827996  ...        1  2.209465  0.333393\n",
              "2  0.196879    0.021231  1.109334  ...        1  2.516740 -1.031151\n",
              "3  1.691550   -0.346811  0.487926  ...        1  3.757066 -2.756372\n",
              "4  0.295700    0.227694  1.840403  ...        1  1.008908 -0.869831\n",
              "\n",
              "[5 rows x 17 columns]"
            ]
          },
          "metadata": {
            "tags": []
          },
          "execution_count": 169
        }
      ]
    },
    {
      "cell_type": "markdown",
      "metadata": {
        "id": "iwPGIwMrzLkI"
      },
      "source": [
        "### 원본과 비교"
      ]
    },
    {
      "cell_type": "code",
      "metadata": {
        "colab": {
          "base_uri": "https://localhost:8080/",
          "height": 295
        },
        "id": "wuY89Xd2XLip",
        "outputId": "0577ff13-45f3-4626-9703-bdef512ebedb"
      },
      "source": [
        "fig, axs = plt.subplots(figsize=(12,4),ncols=2,nrows=1)\r\n",
        "columns = ['target','cluster']\r\n",
        "markers = ['^',\"s\",'o']\r\n",
        "for k, column in enumerate(columns):\r\n",
        "    ax = axs[k]\r\n",
        "    for i, marker in enumerate(markers):\r\n",
        "        x_axis_data = df[df[column]==i]['pca_x']\r\n",
        "        y_axis_data = df[df[column]==i]['pca_y']\r\n",
        "        ax.scatter(x_axis_data, y_axis_data, marker=marker,label=wine.target_names[i])\r\n",
        "    if k == 0:\r\n",
        "        ax.set_title('Original Data')\r\n",
        "        ax.set_ylabel('PCA Component 2')\r\n",
        "        ax.legend()\r\n",
        "    else:\r\n",
        "        ax.set_title('Clustered Data')\r\n",
        "    ax.set_xlabel('PCA Component 1')"
      ],
      "execution_count": 170,
      "outputs": [
        {
          "output_type": "display_data",
          "data": {
            "image/png": "[encoded data removed]",
            "text/plain": [
              "<Figure size 864x288 with 2 Axes>"
            ]
          },
          "metadata": {
            "tags": [],
            "needs_background": "light"
          }
        }
      ]
    },
    {
      "cell_type": "markdown",
      "metadata": {
        "id": "WmFkidOKzOwv"
      },
      "source": [
        "### 실루엣 분석"
      ]
    },
    {
      "cell_type": "code",
      "metadata": {
        "id": "DwZGTpF9hnTl"
      },
      "source": [
        "def visualize_silhouette(cluster_lists, X_features): \r\n",
        "    \r\n",
        "    from sklearn.datasets import make_blobs\r\n",
        "    from sklearn.cluster import KMeans\r\n",
        "    from sklearn.metrics import silhouette_samples, silhouette_score\r\n",
        "\r\n",
        "    import matplotlib.pyplot as plt\r\n",
        "    import matplotlib.cm as cm\r\n",
        "    import math\r\n",
        "    \r\n",
        "    # 입력값으로 클러스터링 갯수들을 리스트로 받아서, 각 갯수별로 클러스터링을 적용하고 실루엣 개수를 구함\r\n",
        "    n_cols = len(cluster_lists)\r\n",
        "    \r\n",
        "    # plt.subplots()으로 리스트에 기재된 클러스터링 수만큼의 sub figures를 가지는 axs 생성 \r\n",
        "    fig, axs = plt.subplots(figsize=(4*n_cols, 4), nrows=1, ncols=n_cols)\r\n",
        "    \r\n",
        "    # 리스트에 기재된 클러스터링 갯수들을 차례로 iteration 수행하면서 실루엣 개수 시각화\r\n",
        "    for ind, n_cluster in enumerate(cluster_lists):\r\n",
        "        \r\n",
        "        # KMeans 클러스터링 수행하고, 실루엣 스코어와 개별 데이터의 실루엣 값 계산. \r\n",
        "        clusterer = KMeans(n_clusters = n_cluster, max_iter=500, random_state=0)\r\n",
        "        cluster_labels = clusterer.fit_predict(X_features)\r\n",
        "        \r\n",
        "        sil_avg = silhouette_score(X_features, cluster_labels)\r\n",
        "        sil_values = silhouette_samples(X_features, cluster_labels)\r\n",
        "        \r\n",
        "        y_lower = 10\r\n",
        "        axs[ind].set_title('Number of Cluster : '+ str(n_cluster)+'\\n' \\\r\n",
        "                          'Silhouette Score :' + str(round(sil_avg,3)) )\r\n",
        "        axs[ind].set_xlabel(\"The silhouette coefficient values\")\r\n",
        "        axs[ind].set_ylabel(\"Cluster label\")\r\n",
        "        axs[ind].set_xlim([-0.1, 1])\r\n",
        "        axs[ind].set_ylim([0, len(X_features) + (n_cluster + 1) * 10])\r\n",
        "        axs[ind].set_yticks([])  # Clear the yaxis labels / ticks\r\n",
        "        axs[ind].set_xticks([0, 0.2, 0.4, 0.6, 0.8, 1])\r\n",
        "        \r\n",
        "        # 클러스터링 갯수별로 fill_betweenx( )형태의 막대 그래프 표현. \r\n",
        "        for i in range(n_cluster):\r\n",
        "            ith_cluster_sil_values = sil_values[cluster_labels==i]\r\n",
        "            ith_cluster_sil_values.sort()\r\n",
        "            \r\n",
        "            size_cluster_i = ith_cluster_sil_values.shape[0]\r\n",
        "            y_upper = y_lower + size_cluster_i\r\n",
        "            \r\n",
        "            color = cm.nipy_spectral(float(i) / n_cluster)\r\n",
        "            axs[ind].fill_betweenx(np.arange(y_lower, y_upper), 0, ith_cluster_sil_values, \\\r\n",
        "                                facecolor=color, edgecolor=color, alpha=0.7)\r\n",
        "            axs[ind].text(-0.05, y_lower + 0.5 * size_cluster_i, str(i))\r\n",
        "            y_lower = y_upper + 10\r\n",
        "            \r\n",
        "        axs[ind].axvline(x=sil_avg, color=\"red\", linestyle=\"--\")"
      ],
      "execution_count": 171,
      "outputs": []
    },
    {
      "cell_type": "code",
      "metadata": {
        "colab": {
          "base_uri": "https://localhost:8080/",
          "height": 265
        },
        "id": "NhLWly2sDiLP",
        "outputId": "91146721-af4e-495d-8a45-7024080f898e"
      },
      "source": [
        "visualize_silhouette([ 2,3,4,5 ], wine.data)"
      ],
      "execution_count": 172,
      "outputs": [
        {
          "output_type": "display_data",
          "data": {
            "image/png": "[encoded data removed]",
            "text/plain": [
              "<Figure size 1152x288 with 4 Axes>"
            ]
          },
          "metadata": {
            "tags": [],
            "needs_background": "light"
          }
        }
      ]
    },
    {
      "cell_type": "code",
      "metadata": {
        "id": "SmqOiVkQHaAA"
      },
      "source": [],
      "execution_count": 172,
      "outputs": []
    }
  ]
}