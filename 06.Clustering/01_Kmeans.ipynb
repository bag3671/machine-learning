{
  "nbformat": 4,
  "nbformat_minor": 0,
  "metadata": {
    "colab": {
      "name": "01_Kmeans.ipynb",
      "provenance": []
    },
    "kernelspec": {
      "name": "python3",
      "display_name": "Python 3"
    }
  },
  "cells": [
    {
      "cell_type": "code",
      "metadata": {
        "id": "XUyVEswGOIlR"
      },
      "source": [
        "import numpy as np\r\n",
        "import seaborn as sns\r\n",
        "import pandas as pd\r\n",
        "import matplotlib.pyplot as plt\r\n",
        "%matplotlib inline"
      ],
      "execution_count": null,
      "outputs": []
    },
    {
      "cell_type": "markdown",
      "metadata": {
        "id": "3LoNZo4KORHA"
      },
      "source": [
        "## Iris data로 군집화"
      ]
    },
    {
      "cell_type": "code",
      "metadata": {
        "colab": {
          "base_uri": "https://localhost:8080/",
          "height": 142
        },
        "id": "HnRUy5LtOTuM",
        "outputId": "d4e1019e-356e-4015-eddf-ae309b896bd4"
      },
      "source": [
        "from sklearn.datasets import load_iris\r\n",
        "iris = load_iris()\r\n",
        "irisDF = pd.DataFrame(iris.data, columns=['sl','sw','pl','pw'])\r\n",
        "\r\n",
        "irisDF.sample(3)"
      ],
      "execution_count": null,
      "outputs": [
        {
          "output_type": "execute_result",
          "data": {
            "text/html": [
              "<div>\n",
              "<style scoped>\n",
              "    .dataframe tbody tr th:only-of-type {\n",
              "        vertical-align: middle;\n",
              "    }\n",
              "\n",
              "    .dataframe tbody tr th {\n",
              "        vertical-align: top;\n",
              "    }\n",
              "\n",
              "    .dataframe thead th {\n",
              "        text-align: right;\n",
              "    }\n",
              "</style>\n",
              "<table border=\"1\" class=\"dataframe\">\n",
              "  <thead>\n",
              "    <tr style=\"text-align: right;\">\n",
              "      <th></th>\n",
              "      <th>sl</th>\n",
              "      <th>sw</th>\n",
              "      <th>pl</th>\n",
              "      <th>pw</th>\n",
              "    </tr>\n",
              "  </thead>\n",
              "  <tbody>\n",
              "    <tr>\n",
              "      <th>82</th>\n",
              "      <td>5.8</td>\n",
              "      <td>2.7</td>\n",
              "      <td>3.9</td>\n",
              "      <td>1.2</td>\n",
              "    </tr>\n",
              "    <tr>\n",
              "      <th>85</th>\n",
              "      <td>6.0</td>\n",
              "      <td>3.4</td>\n",
              "      <td>4.5</td>\n",
              "      <td>1.6</td>\n",
              "    </tr>\n",
              "    <tr>\n",
              "      <th>30</th>\n",
              "      <td>4.8</td>\n",
              "      <td>3.1</td>\n",
              "      <td>1.6</td>\n",
              "      <td>0.2</td>\n",
              "    </tr>\n",
              "  </tbody>\n",
              "</table>\n",
              "</div>"
            ],
            "text/plain": [
              "     sl   sw   pl   pw\n",
              "82  5.8  2.7  3.9  1.2\n",
              "85  6.0  3.4  4.5  1.6\n",
              "30  4.8  3.1  1.6  0.2"
            ]
          },
          "metadata": {
            "tags": []
          },
          "execution_count": 99
        }
      ]
    },
    {
      "cell_type": "markdown",
      "metadata": {
        "id": "NF60IsNLPAL7"
      },
      "source": [
        "### KMeans 모델 생성/학습"
      ]
    },
    {
      "cell_type": "code",
      "metadata": {
        "colab": {
          "base_uri": "https://localhost:8080/"
        },
        "id": "ifJXWiD5Of67",
        "outputId": "4d7d38eb-6f41-4a0d-b5fb-c82ec1069c06"
      },
      "source": [
        "from sklearn.cluster import KMeans\r\n",
        "kmeans = KMeans(n_clusters=3,init='k-means++',random_state=2021)\r\n",
        "kmeans.fit(irisDF)"
      ],
      "execution_count": null,
      "outputs": [
        {
          "output_type": "execute_result",
          "data": {
            "text/plain": [
              "KMeans(algorithm='auto', copy_x=True, init='k-means++', max_iter=300,\n",
              "       n_clusters=3, n_init=10, n_jobs=None, precompute_distances='auto',\n",
              "       random_state=2021, tol=0.0001, verbose=0)"
            ]
          },
          "metadata": {
            "tags": []
          },
          "execution_count": 100
        }
      ]
    },
    {
      "cell_type": "code",
      "metadata": {
        "colab": {
          "base_uri": "https://localhost:8080/"
        },
        "id": "sDLyjU_SO-0D",
        "outputId": "22246c93-577a-4d6a-a40b-56b3e0a5e1b0"
      },
      "source": [
        "kmeans.labels_"
      ],
      "execution_count": null,
      "outputs": [
        {
          "output_type": "execute_result",
          "data": {
            "text/plain": [
              "array([1, 1, 1, 1, 1, 1, 1, 1, 1, 1, 1, 1, 1, 1, 1, 1, 1, 1, 1, 1, 1, 1,\n",
              "       1, 1, 1, 1, 1, 1, 1, 1, 1, 1, 1, 1, 1, 1, 1, 1, 1, 1, 1, 1, 1, 1,\n",
              "       1, 1, 1, 1, 1, 1, 0, 0, 2, 0, 0, 0, 0, 0, 0, 0, 0, 0, 0, 0, 0, 0,\n",
              "       0, 0, 0, 0, 0, 0, 0, 0, 0, 0, 0, 2, 0, 0, 0, 0, 0, 0, 0, 0, 0, 0,\n",
              "       0, 0, 0, 0, 0, 0, 0, 0, 0, 0, 0, 0, 2, 0, 2, 2, 2, 2, 0, 2, 2, 2,\n",
              "       2, 2, 2, 0, 0, 2, 2, 2, 2, 0, 2, 0, 2, 0, 2, 2, 0, 0, 2, 2, 2, 2,\n",
              "       2, 0, 2, 2, 2, 2, 0, 2, 2, 2, 0, 2, 2, 2, 0, 2, 2, 0], dtype=int32)"
            ]
          },
          "metadata": {
            "tags": []
          },
          "execution_count": 101
        }
      ]
    },
    {
      "cell_type": "code",
      "metadata": {
        "colab": {
          "base_uri": "https://localhost:8080/",
          "height": 204
        },
        "id": "IVIoV7NTPkmB",
        "outputId": "f3145629-7bc8-4004-abe5-2a739ea0c431"
      },
      "source": [
        "irisDF['target'] = iris.target    # 실제 target Class\r\n",
        "irisDF['cluster'] = kmeans.labels_  # Clustering 결과 도출된 Class  \r\n",
        "irisDF.sample(5)"
      ],
      "execution_count": null,
      "outputs": [
        {
          "output_type": "execute_result",
          "data": {
            "text/html": [
              "<div>\n",
              "<style scoped>\n",
              "    .dataframe tbody tr th:only-of-type {\n",
              "        vertical-align: middle;\n",
              "    }\n",
              "\n",
              "    .dataframe tbody tr th {\n",
              "        vertical-align: top;\n",
              "    }\n",
              "\n",
              "    .dataframe thead th {\n",
              "        text-align: right;\n",
              "    }\n",
              "</style>\n",
              "<table border=\"1\" class=\"dataframe\">\n",
              "  <thead>\n",
              "    <tr style=\"text-align: right;\">\n",
              "      <th></th>\n",
              "      <th>sl</th>\n",
              "      <th>sw</th>\n",
              "      <th>pl</th>\n",
              "      <th>pw</th>\n",
              "      <th>target</th>\n",
              "      <th>cluster</th>\n",
              "    </tr>\n",
              "  </thead>\n",
              "  <tbody>\n",
              "    <tr>\n",
              "      <th>21</th>\n",
              "      <td>5.1</td>\n",
              "      <td>3.7</td>\n",
              "      <td>1.5</td>\n",
              "      <td>0.4</td>\n",
              "      <td>0</td>\n",
              "      <td>1</td>\n",
              "    </tr>\n",
              "    <tr>\n",
              "      <th>25</th>\n",
              "      <td>5.0</td>\n",
              "      <td>3.0</td>\n",
              "      <td>1.6</td>\n",
              "      <td>0.2</td>\n",
              "      <td>0</td>\n",
              "      <td>1</td>\n",
              "    </tr>\n",
              "    <tr>\n",
              "      <th>68</th>\n",
              "      <td>6.2</td>\n",
              "      <td>2.2</td>\n",
              "      <td>4.5</td>\n",
              "      <td>1.5</td>\n",
              "      <td>1</td>\n",
              "      <td>0</td>\n",
              "    </tr>\n",
              "    <tr>\n",
              "      <th>46</th>\n",
              "      <td>5.1</td>\n",
              "      <td>3.8</td>\n",
              "      <td>1.6</td>\n",
              "      <td>0.2</td>\n",
              "      <td>0</td>\n",
              "      <td>1</td>\n",
              "    </tr>\n",
              "    <tr>\n",
              "      <th>132</th>\n",
              "      <td>6.4</td>\n",
              "      <td>2.8</td>\n",
              "      <td>5.6</td>\n",
              "      <td>2.2</td>\n",
              "      <td>2</td>\n",
              "      <td>2</td>\n",
              "    </tr>\n",
              "  </tbody>\n",
              "</table>\n",
              "</div>"
            ],
            "text/plain": [
              "      sl   sw   pl   pw  target  cluster\n",
              "21   5.1  3.7  1.5  0.4       0        1\n",
              "25   5.0  3.0  1.6  0.2       0        1\n",
              "68   6.2  2.2  4.5  1.5       1        0\n",
              "46   5.1  3.8  1.6  0.2       0        1\n",
              "132  6.4  2.8  5.6  2.2       2        2"
            ]
          },
          "metadata": {
            "tags": []
          },
          "execution_count": 102
        }
      ]
    },
    {
      "cell_type": "code",
      "metadata": {
        "colab": {
          "base_uri": "https://localhost:8080/",
          "height": 235
        },
        "id": "8TtZUl9kQSzp",
        "outputId": "b20d5428-585c-4fc5-d529-6b977a02d251"
      },
      "source": [
        "clustering_result = irisDF.groupby(['target','cluster']).count()\r\n",
        "clustering_result"
      ],
      "execution_count": null,
      "outputs": [
        {
          "output_type": "execute_result",
          "data": {
            "text/html": [
              "<div>\n",
              "<style scoped>\n",
              "    .dataframe tbody tr th:only-of-type {\n",
              "        vertical-align: middle;\n",
              "    }\n",
              "\n",
              "    .dataframe tbody tr th {\n",
              "        vertical-align: top;\n",
              "    }\n",
              "\n",
              "    .dataframe thead th {\n",
              "        text-align: right;\n",
              "    }\n",
              "</style>\n",
              "<table border=\"1\" class=\"dataframe\">\n",
              "  <thead>\n",
              "    <tr style=\"text-align: right;\">\n",
              "      <th></th>\n",
              "      <th></th>\n",
              "      <th>sl</th>\n",
              "      <th>sw</th>\n",
              "      <th>pl</th>\n",
              "      <th>pw</th>\n",
              "    </tr>\n",
              "    <tr>\n",
              "      <th>target</th>\n",
              "      <th>cluster</th>\n",
              "      <th></th>\n",
              "      <th></th>\n",
              "      <th></th>\n",
              "      <th></th>\n",
              "    </tr>\n",
              "  </thead>\n",
              "  <tbody>\n",
              "    <tr>\n",
              "      <th>0</th>\n",
              "      <th>1</th>\n",
              "      <td>50</td>\n",
              "      <td>50</td>\n",
              "      <td>50</td>\n",
              "      <td>50</td>\n",
              "    </tr>\n",
              "    <tr>\n",
              "      <th rowspan=\"2\" valign=\"top\">1</th>\n",
              "      <th>0</th>\n",
              "      <td>48</td>\n",
              "      <td>48</td>\n",
              "      <td>48</td>\n",
              "      <td>48</td>\n",
              "    </tr>\n",
              "    <tr>\n",
              "      <th>2</th>\n",
              "      <td>2</td>\n",
              "      <td>2</td>\n",
              "      <td>2</td>\n",
              "      <td>2</td>\n",
              "    </tr>\n",
              "    <tr>\n",
              "      <th rowspan=\"2\" valign=\"top\">2</th>\n",
              "      <th>0</th>\n",
              "      <td>14</td>\n",
              "      <td>14</td>\n",
              "      <td>14</td>\n",
              "      <td>14</td>\n",
              "    </tr>\n",
              "    <tr>\n",
              "      <th>2</th>\n",
              "      <td>36</td>\n",
              "      <td>36</td>\n",
              "      <td>36</td>\n",
              "      <td>36</td>\n",
              "    </tr>\n",
              "  </tbody>\n",
              "</table>\n",
              "</div>"
            ],
            "text/plain": [
              "                sl  sw  pl  pw\n",
              "target cluster                \n",
              "0      1        50  50  50  50\n",
              "1      0        48  48  48  48\n",
              "       2         2   2   2   2\n",
              "2      0        14  14  14  14\n",
              "       2        36  36  36  36"
            ]
          },
          "metadata": {
            "tags": []
          },
          "execution_count": 103
        }
      ]
    },
    {
      "cell_type": "markdown",
      "metadata": {
        "id": "rgdyLC8QRrMm"
      },
      "source": [
        "## 군집화 결과를 차원축소하여 시각화"
      ]
    },
    {
      "cell_type": "code",
      "metadata": {
        "id": "mq2gGe_WQtba"
      },
      "source": [
        "from sklearn.preprocessing import StandardScaler\r\n",
        "from sklearn.decomposition import PCA\r\n",
        "\r\n",
        "scaler = StandardScaler()\r\n",
        "iris_std = scaler.fit_transform(iris.data)\r\n",
        "\r\n",
        "pca = PCA()\r\n",
        "iris_pca = pca.fit_transform(iris_std)"
      ],
      "execution_count": null,
      "outputs": []
    },
    {
      "cell_type": "code",
      "metadata": {
        "colab": {
          "base_uri": "https://localhost:8080/",
          "height": 204
        },
        "id": "NVpYvQ6vR28t",
        "outputId": "907088e8-bfa9-4d29-c656-f310e10edffa"
      },
      "source": [
        "irisDF['pca_x'] = iris_pca[:,0]\r\n",
        "irisDF['pca_y'] = iris_pca[:,1]\r\n",
        "irisDF.head()"
      ],
      "execution_count": null,
      "outputs": [
        {
          "output_type": "execute_result",
          "data": {
            "text/html": [
              "<div>\n",
              "<style scoped>\n",
              "    .dataframe tbody tr th:only-of-type {\n",
              "        vertical-align: middle;\n",
              "    }\n",
              "\n",
              "    .dataframe tbody tr th {\n",
              "        vertical-align: top;\n",
              "    }\n",
              "\n",
              "    .dataframe thead th {\n",
              "        text-align: right;\n",
              "    }\n",
              "</style>\n",
              "<table border=\"1\" class=\"dataframe\">\n",
              "  <thead>\n",
              "    <tr style=\"text-align: right;\">\n",
              "      <th></th>\n",
              "      <th>sl</th>\n",
              "      <th>sw</th>\n",
              "      <th>pl</th>\n",
              "      <th>pw</th>\n",
              "      <th>target</th>\n",
              "      <th>cluster</th>\n",
              "      <th>pca_x</th>\n",
              "      <th>pca_y</th>\n",
              "    </tr>\n",
              "  </thead>\n",
              "  <tbody>\n",
              "    <tr>\n",
              "      <th>0</th>\n",
              "      <td>5.1</td>\n",
              "      <td>3.5</td>\n",
              "      <td>1.4</td>\n",
              "      <td>0.2</td>\n",
              "      <td>0</td>\n",
              "      <td>1</td>\n",
              "      <td>-2.264703</td>\n",
              "      <td>0.480027</td>\n",
              "    </tr>\n",
              "    <tr>\n",
              "      <th>1</th>\n",
              "      <td>4.9</td>\n",
              "      <td>3.0</td>\n",
              "      <td>1.4</td>\n",
              "      <td>0.2</td>\n",
              "      <td>0</td>\n",
              "      <td>1</td>\n",
              "      <td>-2.080961</td>\n",
              "      <td>-0.674134</td>\n",
              "    </tr>\n",
              "    <tr>\n",
              "      <th>2</th>\n",
              "      <td>4.7</td>\n",
              "      <td>3.2</td>\n",
              "      <td>1.3</td>\n",
              "      <td>0.2</td>\n",
              "      <td>0</td>\n",
              "      <td>1</td>\n",
              "      <td>-2.364229</td>\n",
              "      <td>-0.341908</td>\n",
              "    </tr>\n",
              "    <tr>\n",
              "      <th>3</th>\n",
              "      <td>4.6</td>\n",
              "      <td>3.1</td>\n",
              "      <td>1.5</td>\n",
              "      <td>0.2</td>\n",
              "      <td>0</td>\n",
              "      <td>1</td>\n",
              "      <td>-2.299384</td>\n",
              "      <td>-0.597395</td>\n",
              "    </tr>\n",
              "    <tr>\n",
              "      <th>4</th>\n",
              "      <td>5.0</td>\n",
              "      <td>3.6</td>\n",
              "      <td>1.4</td>\n",
              "      <td>0.2</td>\n",
              "      <td>0</td>\n",
              "      <td>1</td>\n",
              "      <td>-2.389842</td>\n",
              "      <td>0.646835</td>\n",
              "    </tr>\n",
              "  </tbody>\n",
              "</table>\n",
              "</div>"
            ],
            "text/plain": [
              "    sl   sw   pl   pw  target  cluster     pca_x     pca_y\n",
              "0  5.1  3.5  1.4  0.2       0        1 -2.264703  0.480027\n",
              "1  4.9  3.0  1.4  0.2       0        1 -2.080961 -0.674134\n",
              "2  4.7  3.2  1.3  0.2       0        1 -2.364229 -0.341908\n",
              "3  4.6  3.1  1.5  0.2       0        1 -2.299384 -0.597395\n",
              "4  5.0  3.6  1.4  0.2       0        1 -2.389842  0.646835"
            ]
          },
          "metadata": {
            "tags": []
          },
          "execution_count": 105
        }
      ]
    },
    {
      "cell_type": "code",
      "metadata": {
        "colab": {
          "base_uri": "https://localhost:8080/",
          "height": 295
        },
        "id": "Da9khQx4SZNL",
        "outputId": "ee050a7c-225b-4269-80b5-901ffaefdad3"
      },
      "source": [
        "cls0_index = irisDF[irisDF.cluster == 0].index\r\n",
        "cls1_index = irisDF[irisDF.cluster == 1].index\r\n",
        "cls2_index = irisDF[irisDF.cluster == 2].index\r\n",
        "\r\n",
        "plt.scatter(x=irisDF.loc[cls0_index, 'pca_x'],\r\n",
        "            y=irisDF.loc[cls0_index, 'pca_y'],\r\n",
        "            marker='o')\r\n",
        "plt.scatter(x=irisDF.loc[cls1_index, 'pca_x'],\r\n",
        "            y=irisDF.loc[cls1_index, 'pca_y'],\r\n",
        "            marker='^')\r\n",
        "plt.scatter(x=irisDF.loc[cls2_index, 'pca_x'],\r\n",
        "            y=irisDF.loc[cls2_index, 'pca_y'],\r\n",
        "            marker='*')\r\n",
        "plt.xlabel('PCA 1')\r\n",
        "plt.ylabel('PCA 2')\r\n",
        "plt.title('3 Cluster Visualization by 2 PCA components')\r\n",
        "plt.show()"
      ],
      "execution_count": null,
      "outputs": [
        {
          "output_type": "display_data",
          "data": {
            "image/png": "[encoded data removed]",
            "text/plain": [
              "<Figure size 432x288 with 1 Axes>"
            ]
          },
          "metadata": {
            "tags": [],
            "needs_background": "light"
          }
        }
      ]
    },
    {
      "cell_type": "code",
      "metadata": {
        "colab": {
          "base_uri": "https://localhost:8080/"
        },
        "id": "sif6QAzWSZ1W",
        "outputId": "e83b377f-a289-4a43-af9c-0dd6ce90f1ac"
      },
      "source": [
        "cls0_index,cls1_index,cls2_index"
      ],
      "execution_count": null,
      "outputs": [
        {
          "output_type": "execute_result",
          "data": {
            "text/plain": [
              "(Int64Index([ 50,  51,  53,  54,  55,  56,  57,  58,  59,  60,  61,  62,  63,\n",
              "              64,  65,  66,  67,  68,  69,  70,  71,  72,  73,  74,  75,  76,\n",
              "              78,  79,  80,  81,  82,  83,  84,  85,  86,  87,  88,  89,  90,\n",
              "              91,  92,  93,  94,  95,  96,  97,  98,  99, 101, 106, 113, 114,\n",
              "             119, 121, 123, 126, 127, 133, 138, 142, 146, 149],\n",
              "            dtype='int64'),\n",
              " Int64Index([ 0,  1,  2,  3,  4,  5,  6,  7,  8,  9, 10, 11, 12, 13, 14, 15, 16,\n",
              "             17, 18, 19, 20, 21, 22, 23, 24, 25, 26, 27, 28, 29, 30, 31, 32, 33,\n",
              "             34, 35, 36, 37, 38, 39, 40, 41, 42, 43, 44, 45, 46, 47, 48, 49],\n",
              "            dtype='int64'),\n",
              " Int64Index([ 52,  77, 100, 102, 103, 104, 105, 107, 108, 109, 110, 111, 112,\n",
              "             115, 116, 117, 118, 120, 122, 124, 125, 128, 129, 130, 131, 132,\n",
              "             134, 135, 136, 137, 139, 140, 141, 143, 144, 145, 147, 148],\n",
              "            dtype='int64'))"
            ]
          },
          "metadata": {
            "tags": []
          },
          "execution_count": 107
        }
      ]
    },
    {
      "cell_type": "code",
      "metadata": {
        "colab": {
          "base_uri": "https://localhost:8080/",
          "height": 670
        },
        "id": "L_TyApNTSvhx",
        "outputId": "5c4dcd5b-2fee-4c70-9a79-2e123ae19aee"
      },
      "source": [
        "    # 그래프 2개 그리기\r\n",
        "    fig, asx = plt.subplots(figsize=(12,6),ncols=2,nrows=1)\r\n",
        "    #setosa는 세모, versicolor는 네모, virginica는 동그라미로 표현\r\n",
        "    markers=['^', 's', 'o']\r\n",
        "\r\n",
        "    #setosa의 target 값은 0, versicolor는 1, virginica는 2. 각 target 별로 다른 shape으로 scatter plot \r\n",
        "    for i, marker in enumerate(markers):\r\n",
        "        x_axis_data = irisDF[irisDF['target']==i]['sl']\r\n",
        "        y_axis_data = irisDF[irisDF['target']==i]['sw']\r\n",
        "        plt.scatter(x_axis_data, y_axis_data, marker=marker,label=iris.target_names[i])\r\n",
        "\r\n",
        "    plt.legend()\r\n",
        "    plt.xlabel('sepal length')\r\n",
        "    plt.ylabel('sepal width')\r\n",
        "    plt.show()\r\n",
        "    cls0_index = irisDF[irisDF.cluster == 0].index\r\n",
        "    cls1_index = irisDF[irisDF.cluster == 1].index\r\n",
        "    cls2_index = irisDF[irisDF.cluster == 2].index\r\n",
        "\r\n",
        "    plt.scatter(x=irisDF.loc[cls0_index, 'pca_x'],\r\n",
        "                y=irisDF.loc[cls0_index, 'pca_y'],\r\n",
        "                marker='o')\r\n",
        "    plt.scatter(x=irisDF.loc[cls1_index, 'pca_x'],\r\n",
        "                y=irisDF.loc[cls1_index, 'pca_y'],\r\n",
        "                marker='^')\r\n",
        "    plt.scatter(x=irisDF.loc[cls2_index, 'pca_x'],\r\n",
        "                y=irisDF.loc[cls2_index, 'pca_y'],\r\n",
        "                marker='*')\r\n",
        "    plt.xlabel('PCA 1')\r\n",
        "    plt.ylabel('PCA 2')\r\n",
        "    plt.title('3 Cluster Visualization by 2 PCA components')\r\n",
        "    plt.show()"
      ],
      "execution_count": null,
      "outputs": [
        {
          "output_type": "display_data",
          "data": {
            "image/png": "[encoded data removed]",
            "text/plain": [
              "<Figure size 864x432 with 2 Axes>"
            ]
          },
          "metadata": {
            "tags": [],
            "needs_background": "light"
          }
        },
        {
          "output_type": "display_data",
          "data": {
            "image/png": "[encoded data removed]",
            "text/plain": [
              "<Figure size 432x288 with 1 Axes>"
            ]
          },
          "metadata": {
            "tags": [],
            "needs_background": "light"
          }
        }
      ]
    },
    {
      "cell_type": "markdown",
      "metadata": {
        "id": "NkUhRcc6ZS9c"
      },
      "source": [
        "## Clustering 알고리즘 테스트를 위한 데이터 생성"
      ]
    },
    {
      "cell_type": "code",
      "metadata": {
        "colab": {
          "base_uri": "https://localhost:8080/"
        },
        "id": "Jxa92m9jYqJ3",
        "outputId": "3fac2dbd-ef94-4fae-f687-2dbb449c25b5"
      },
      "source": [
        "from sklearn.datasets import make_blobs\r\n",
        "X, y = make_blobs(n_samples=200,n_features=2,centers=3,\r\n",
        "                  cluster_std=4,random_state=2021)\r\n",
        "print(X.shape,y.shape)"
      ],
      "execution_count": null,
      "outputs": [
        {
          "output_type": "stream",
          "text": [
            "(200, 2) (200,)\n"
          ],
          "name": "stdout"
        }
      ]
    },
    {
      "cell_type": "code",
      "metadata": {
        "colab": {
          "base_uri": "https://localhost:8080/"
        },
        "id": "yJbqg2nsZf2f",
        "outputId": "6fc54f1c-101e-4702-f69f-4e939754451f"
      },
      "source": [
        "#target의 분포\r\n",
        "uniqe, counts = np.unique(y, return_counts=True)\r\n",
        "print(uniqe, counts)"
      ],
      "execution_count": null,
      "outputs": [
        {
          "output_type": "stream",
          "text": [
            "[0 1 2] [67 67 66]\n"
          ],
          "name": "stdout"
        }
      ]
    },
    {
      "cell_type": "code",
      "metadata": {
        "colab": {
          "base_uri": "https://localhost:8080/",
          "height": 204
        },
        "id": "ssqTpcmZZ8Se",
        "outputId": "af6619fe-02fb-4688-9528-b9f96c036632"
      },
      "source": [
        "clusterDF = pd.DataFrame(X, columns=['ftr1','ftr2'])\r\n",
        "clusterDF['target'] = y\r\n",
        "clusterDF.head()"
      ],
      "execution_count": null,
      "outputs": [
        {
          "output_type": "execute_result",
          "data": {
            "text/html": [
              "<div>\n",
              "<style scoped>\n",
              "    .dataframe tbody tr th:only-of-type {\n",
              "        vertical-align: middle;\n",
              "    }\n",
              "\n",
              "    .dataframe tbody tr th {\n",
              "        vertical-align: top;\n",
              "    }\n",
              "\n",
              "    .dataframe thead th {\n",
              "        text-align: right;\n",
              "    }\n",
              "</style>\n",
              "<table border=\"1\" class=\"dataframe\">\n",
              "  <thead>\n",
              "    <tr style=\"text-align: right;\">\n",
              "      <th></th>\n",
              "      <th>ftr1</th>\n",
              "      <th>ftr2</th>\n",
              "      <th>target</th>\n",
              "    </tr>\n",
              "  </thead>\n",
              "  <tbody>\n",
              "    <tr>\n",
              "      <th>0</th>\n",
              "      <td>-1.420755</td>\n",
              "      <td>0.524051</td>\n",
              "      <td>1</td>\n",
              "    </tr>\n",
              "    <tr>\n",
              "      <th>1</th>\n",
              "      <td>9.606759</td>\n",
              "      <td>-16.785233</td>\n",
              "      <td>2</td>\n",
              "    </tr>\n",
              "    <tr>\n",
              "      <th>2</th>\n",
              "      <td>9.463470</td>\n",
              "      <td>-12.342820</td>\n",
              "      <td>2</td>\n",
              "    </tr>\n",
              "    <tr>\n",
              "      <th>3</th>\n",
              "      <td>5.992541</td>\n",
              "      <td>-9.566412</td>\n",
              "      <td>2</td>\n",
              "    </tr>\n",
              "    <tr>\n",
              "      <th>4</th>\n",
              "      <td>-5.988626</td>\n",
              "      <td>4.843629</td>\n",
              "      <td>1</td>\n",
              "    </tr>\n",
              "  </tbody>\n",
              "</table>\n",
              "</div>"
            ],
            "text/plain": [
              "       ftr1       ftr2  target\n",
              "0 -1.420755   0.524051       1\n",
              "1  9.606759 -16.785233       2\n",
              "2  9.463470 -12.342820       2\n",
              "3  5.992541  -9.566412       2\n",
              "4 -5.988626   4.843629       1"
            ]
          },
          "metadata": {
            "tags": []
          },
          "execution_count": 111
        }
      ]
    },
    {
      "cell_type": "code",
      "metadata": {
        "colab": {
          "base_uri": "https://localhost:8080/",
          "height": 265
        },
        "id": "C2XBKMOOaLb_",
        "outputId": "8401b5a1-dcfa-490a-e6aa-222ea2de9781"
      },
      "source": [
        "markers=['o','s','^','p','D','H','x']\r\n",
        "\r\n",
        "target_list = np.unique(y)\r\n",
        "for target in target_list:\r\n",
        "    target_cluster = clusterDF[clusterDF.target == target]\r\n",
        "    plt.scatter(x = target_cluster['ftr1'],\r\n",
        "                y = target_cluster['ftr2'],\r\n",
        "                marker = markers[target])\r\n",
        "plt.show()"
      ],
      "execution_count": null,
      "outputs": [
        {
          "output_type": "display_data",
          "data": {
            "image/png": "[encoded data removed]",
            "text/plain": [
              "<Figure size 432x288 with 1 Axes>"
            ]
          },
          "metadata": {
            "tags": [],
            "needs_background": "light"
          }
        }
      ]
    },
    {
      "cell_type": "code",
      "metadata": {
        "colab": {
          "base_uri": "https://localhost:8080/",
          "height": 265
        },
        "id": "rAQlLAVQbVMN",
        "outputId": "6b65b06b-7870-41fb-8543-541a11ec4e2c"
      },
      "source": [
        "# KMeans 객체를 이용하여 X 데이터를 K-Means 클러스터링 수행 \r\n",
        "kmeans = KMeans(n_clusters=5,random_state=0)\r\n",
        "cluster_labels = kmeans.fit_predict(X)\r\n",
        "clusterDF['kmeans_label']  = cluster_labels\r\n",
        "\r\n",
        "#cluster_centers_ 는 개별 클러스터의 중심 위치 좌표 시각화를 위해 추출\r\n",
        "centers = kmeans.cluster_centers_\r\n",
        "unique_labels = np.unique(cluster_labels)\r\n",
        "markers=['o', 's', '^', 'P','D','H','x']\r\n",
        "\r\n",
        "# 군집된 label 유형별로 iteration 하면서 marker 별로 scatter plot 수행. \r\n",
        "for label in unique_labels:\r\n",
        "    label_cluster = clusterDF[clusterDF['kmeans_label']==label]\r\n",
        "    center_x_y = centers[label]\r\n",
        "    plt.scatter(x=label_cluster['ftr1'], y=label_cluster['ftr2'], edgecolor='k', \r\n",
        "                marker=markers[label] )\r\n",
        "    \r\n",
        "    # 군집별 중심 위치 좌표 시각화 \r\n",
        "    plt.scatter(x=center_x_y[0], y=center_x_y[1], s=200, color='white',\r\n",
        "                alpha=0.9, edgecolor='k', marker=markers[label])\r\n",
        "    plt.scatter(x=center_x_y[0], y=center_x_y[1], s=70, color='k', edgecolor='k', \r\n",
        "                marker='$%d$' % label)\r\n",
        "\r\n",
        "plt.show()"
      ],
      "execution_count": null,
      "outputs": [
        {
          "output_type": "display_data",
          "data": {
            "image/png": "[encoded data removed]",
            "text/plain": [
              "<Figure size 432x288 with 1 Axes>"
            ]
          },
          "metadata": {
            "tags": [],
            "needs_background": "light"
          }
        }
      ]
    },
    {
      "cell_type": "code",
      "metadata": {
        "id": "aP9qFXj3bylg"
      },
      "source": [
        ""
      ],
      "execution_count": null,
      "outputs": []
    }
  ]
}