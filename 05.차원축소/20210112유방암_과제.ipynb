{
  "nbformat": 4,
  "nbformat_minor": 0,
  "metadata": {
    "colab": {
      "name": "20210112유방암 과제.ipynb",
      "provenance": [],
      "collapsed_sections": []
    },
    "kernelspec": {
      "name": "python3",
      "display_name": "Python 3",
      "language": "python"
    }
  },
  "cells": [
    {
      "cell_type": "markdown",
      "metadata": {
        "id": "f099R-V837wq"
      },
      "source": [
        "# 유방암 데이터 셋\r\n",
        "- feature 갯수를 10,5,2로 축소\r\n",
        "- 각각의 경우 분류 성능측정\r\n",
        "- 2개로 차원 축소 -> 시각화"
      ]
    },
    {
      "cell_type": "code",
      "metadata": {
        "id": "X2J4mROq30jH"
      },
      "source": [
        "import numpy as np\r\n",
        "import seaborn as sns\r\n",
        "import pandas as pd\r\n",
        "import matplotlib.pyplot as plt\r\n",
        "%matplotlib inline"
      ],
      "execution_count": 155,
      "outputs": []
    },
    {
      "cell_type": "code",
      "metadata": {
        "id": "BlpACh284KrA"
      },
      "source": [
        "from sklearn.datasets import load_breast_cancer\r\n",
        "cancer = load_breast_cancer()"
      ],
      "execution_count": 156,
      "outputs": []
    },
    {
      "cell_type": "code",
      "metadata": {
        "colab": {
          "base_uri": "https://localhost:8080/",
          "height": 258
        },
        "id": "tEUz8HDq4NpV",
        "outputId": "6e385ca6-db4f-49fc-8a1d-89c6fbc7cddd"
      },
      "source": [
        "df = pd.DataFrame(data=cancer.data, columns=cancer.feature_names)\r\n",
        "df.sample(5)"
      ],
      "execution_count": 157,
      "outputs": [
        {
          "output_type": "execute_result",
          "data": {
            "text/html": [
              "<div>\n",
              "<style scoped>\n",
              "    .dataframe tbody tr th:only-of-type {\n",
              "        vertical-align: middle;\n",
              "    }\n",
              "\n",
              "    .dataframe tbody tr th {\n",
              "        vertical-align: top;\n",
              "    }\n",
              "\n",
              "    .dataframe thead th {\n",
              "        text-align: right;\n",
              "    }\n",
              "</style>\n",
              "<table border=\"1\" class=\"dataframe\">\n",
              "  <thead>\n",
              "    <tr style=\"text-align: right;\">\n",
              "      <th></th>\n",
              "      <th>mean radius</th>\n",
              "      <th>mean texture</th>\n",
              "      <th>mean perimeter</th>\n",
              "      <th>mean area</th>\n",
              "      <th>mean smoothness</th>\n",
              "      <th>mean compactness</th>\n",
              "      <th>mean concavity</th>\n",
              "      <th>mean concave points</th>\n",
              "      <th>mean symmetry</th>\n",
              "      <th>mean fractal dimension</th>\n",
              "      <th>radius error</th>\n",
              "      <th>texture error</th>\n",
              "      <th>perimeter error</th>\n",
              "      <th>area error</th>\n",
              "      <th>smoothness error</th>\n",
              "      <th>compactness error</th>\n",
              "      <th>concavity error</th>\n",
              "      <th>concave points error</th>\n",
              "      <th>symmetry error</th>\n",
              "      <th>fractal dimension error</th>\n",
              "      <th>worst radius</th>\n",
              "      <th>worst texture</th>\n",
              "      <th>worst perimeter</th>\n",
              "      <th>worst area</th>\n",
              "      <th>worst smoothness</th>\n",
              "      <th>worst compactness</th>\n",
              "      <th>worst concavity</th>\n",
              "      <th>worst concave points</th>\n",
              "      <th>worst symmetry</th>\n",
              "      <th>worst fractal dimension</th>\n",
              "    </tr>\n",
              "  </thead>\n",
              "  <tbody>\n",
              "    <tr>\n",
              "      <th>342</th>\n",
              "      <td>11.06</td>\n",
              "      <td>14.96</td>\n",
              "      <td>71.49</td>\n",
              "      <td>373.9</td>\n",
              "      <td>0.10330</td>\n",
              "      <td>0.09097</td>\n",
              "      <td>0.053970</td>\n",
              "      <td>0.033410</td>\n",
              "      <td>0.1776</td>\n",
              "      <td>0.06907</td>\n",
              "      <td>0.1601</td>\n",
              "      <td>0.8225</td>\n",
              "      <td>1.355</td>\n",
              "      <td>10.800</td>\n",
              "      <td>0.007416</td>\n",
              "      <td>0.018770</td>\n",
              "      <td>0.027580</td>\n",
              "      <td>0.010100</td>\n",
              "      <td>0.02348</td>\n",
              "      <td>0.002917</td>\n",
              "      <td>11.92</td>\n",
              "      <td>19.90</td>\n",
              "      <td>79.76</td>\n",
              "      <td>440.0</td>\n",
              "      <td>0.1418</td>\n",
              "      <td>0.22100</td>\n",
              "      <td>0.229900</td>\n",
              "      <td>0.10750</td>\n",
              "      <td>0.3301</td>\n",
              "      <td>0.09080</td>\n",
              "    </tr>\n",
              "    <tr>\n",
              "      <th>389</th>\n",
              "      <td>19.55</td>\n",
              "      <td>23.21</td>\n",
              "      <td>128.90</td>\n",
              "      <td>1174.0</td>\n",
              "      <td>0.10100</td>\n",
              "      <td>0.13180</td>\n",
              "      <td>0.185600</td>\n",
              "      <td>0.102100</td>\n",
              "      <td>0.1989</td>\n",
              "      <td>0.05884</td>\n",
              "      <td>0.6107</td>\n",
              "      <td>2.8360</td>\n",
              "      <td>5.383</td>\n",
              "      <td>70.100</td>\n",
              "      <td>0.011240</td>\n",
              "      <td>0.040970</td>\n",
              "      <td>0.074690</td>\n",
              "      <td>0.034410</td>\n",
              "      <td>0.02768</td>\n",
              "      <td>0.006240</td>\n",
              "      <td>20.82</td>\n",
              "      <td>30.44</td>\n",
              "      <td>142.00</td>\n",
              "      <td>1313.0</td>\n",
              "      <td>0.1251</td>\n",
              "      <td>0.24140</td>\n",
              "      <td>0.382900</td>\n",
              "      <td>0.18250</td>\n",
              "      <td>0.2576</td>\n",
              "      <td>0.07602</td>\n",
              "    </tr>\n",
              "    <tr>\n",
              "      <th>376</th>\n",
              "      <td>10.57</td>\n",
              "      <td>20.22</td>\n",
              "      <td>70.15</td>\n",
              "      <td>338.3</td>\n",
              "      <td>0.09073</td>\n",
              "      <td>0.16600</td>\n",
              "      <td>0.228000</td>\n",
              "      <td>0.059410</td>\n",
              "      <td>0.2188</td>\n",
              "      <td>0.08450</td>\n",
              "      <td>0.1115</td>\n",
              "      <td>1.2310</td>\n",
              "      <td>2.363</td>\n",
              "      <td>7.228</td>\n",
              "      <td>0.008499</td>\n",
              "      <td>0.076430</td>\n",
              "      <td>0.153500</td>\n",
              "      <td>0.029190</td>\n",
              "      <td>0.01617</td>\n",
              "      <td>0.012200</td>\n",
              "      <td>10.85</td>\n",
              "      <td>22.82</td>\n",
              "      <td>76.51</td>\n",
              "      <td>351.9</td>\n",
              "      <td>0.1143</td>\n",
              "      <td>0.36190</td>\n",
              "      <td>0.603000</td>\n",
              "      <td>0.14650</td>\n",
              "      <td>0.2597</td>\n",
              "      <td>0.12000</td>\n",
              "    </tr>\n",
              "    <tr>\n",
              "      <th>58</th>\n",
              "      <td>13.05</td>\n",
              "      <td>19.31</td>\n",
              "      <td>82.61</td>\n",
              "      <td>527.2</td>\n",
              "      <td>0.08060</td>\n",
              "      <td>0.03789</td>\n",
              "      <td>0.000692</td>\n",
              "      <td>0.004167</td>\n",
              "      <td>0.1819</td>\n",
              "      <td>0.05501</td>\n",
              "      <td>0.4040</td>\n",
              "      <td>1.2140</td>\n",
              "      <td>2.595</td>\n",
              "      <td>32.960</td>\n",
              "      <td>0.007491</td>\n",
              "      <td>0.008593</td>\n",
              "      <td>0.000692</td>\n",
              "      <td>0.004167</td>\n",
              "      <td>0.02190</td>\n",
              "      <td>0.002990</td>\n",
              "      <td>14.23</td>\n",
              "      <td>22.25</td>\n",
              "      <td>90.24</td>\n",
              "      <td>624.1</td>\n",
              "      <td>0.1021</td>\n",
              "      <td>0.06191</td>\n",
              "      <td>0.001845</td>\n",
              "      <td>0.01111</td>\n",
              "      <td>0.2439</td>\n",
              "      <td>0.06289</td>\n",
              "    </tr>\n",
              "    <tr>\n",
              "      <th>542</th>\n",
              "      <td>14.74</td>\n",
              "      <td>25.42</td>\n",
              "      <td>94.70</td>\n",
              "      <td>668.6</td>\n",
              "      <td>0.08275</td>\n",
              "      <td>0.07214</td>\n",
              "      <td>0.041050</td>\n",
              "      <td>0.030270</td>\n",
              "      <td>0.1840</td>\n",
              "      <td>0.05680</td>\n",
              "      <td>0.3031</td>\n",
              "      <td>1.3850</td>\n",
              "      <td>2.177</td>\n",
              "      <td>27.410</td>\n",
              "      <td>0.004775</td>\n",
              "      <td>0.011720</td>\n",
              "      <td>0.019470</td>\n",
              "      <td>0.012690</td>\n",
              "      <td>0.01870</td>\n",
              "      <td>0.002626</td>\n",
              "      <td>16.51</td>\n",
              "      <td>32.29</td>\n",
              "      <td>107.40</td>\n",
              "      <td>826.4</td>\n",
              "      <td>0.1060</td>\n",
              "      <td>0.13760</td>\n",
              "      <td>0.161100</td>\n",
              "      <td>0.10950</td>\n",
              "      <td>0.2722</td>\n",
              "      <td>0.06956</td>\n",
              "    </tr>\n",
              "  </tbody>\n",
              "</table>\n",
              "</div>"
            ],
            "text/plain": [
              "     mean radius  mean texture  ...  worst symmetry  worst fractal dimension\n",
              "342        11.06         14.96  ...          0.3301                  0.09080\n",
              "389        19.55         23.21  ...          0.2576                  0.07602\n",
              "376        10.57         20.22  ...          0.2597                  0.12000\n",
              "58         13.05         19.31  ...          0.2439                  0.06289\n",
              "542        14.74         25.42  ...          0.2722                  0.06956\n",
              "\n",
              "[5 rows x 30 columns]"
            ]
          },
          "metadata": {
            "tags": []
          },
          "execution_count": 157
        }
      ]
    },
    {
      "source": [
        "scale 처리"
      ],
      "cell_type": "markdown",
      "metadata": {}
    },
    {
      "cell_type": "code",
      "metadata": {
        "id": "uY1J6kTP4YFH"
      },
      "source": [
        "from sklearn.decomposition import PCA\r\n",
        "from sklearn.preprocessing import StandardScaler\r\n",
        "\r\n",
        "scaler = StandardScaler()\r\n",
        "cancer_std = scaler.fit_transform(cancer.data)"
      ],
      "execution_count": 158,
      "outputs": []
    },
    {
      "source": [
        "### PCA"
      ],
      "cell_type": "markdown",
      "metadata": {}
    },
    {
      "cell_type": "code",
      "metadata": {
        "colab": {
          "base_uri": "https://localhost:8080/"
        },
        "id": "9LTYPJfT5Gqo",
        "outputId": "1f253629-ee21-4539-9196-a584691528eb"
      },
      "source": [
        "pca = PCA(n_components=10)\n",
        "cancer_pca10 = pca.fit_transform(cancer_std)\n",
        "pca = PCA(n_components=5)\n",
        "cancer_pca5 = pca.fit_transform(cancer_std)\n",
        "pca = PCA(n_components=2)\n",
        "cancer_pca2 = pca.fit_transform(cancer_std)\n",
        "print(cancer_pca10.shape,cancer_pca5.shape,cancer_pca2.shape)\n"
      ],
      "execution_count": 159,
      "outputs": [
        {
          "output_type": "stream",
          "text": [
            "(569, 10) (569, 5) (569, 2)\n"
          ],
          "name": "stdout"
        }
      ]
    },
    {
      "cell_type": "markdown",
      "metadata": {
        "id": "JiEm73Sc852y"
      },
      "source": [
        "## 축소하기전 데이터로 분류"
      ]
    },
    {
      "cell_type": "code",
      "metadata": {
        "colab": {
          "base_uri": "https://localhost:8080/"
        },
        "id": "xdjoc7tB5Q9F",
        "outputId": "7d2d9edf-2f81-41fb-f60b-e3257a67c1dc"
      },
      "source": [
        "from sklearn.tree import DecisionTreeClassifier\n",
        "from sklearn.model_selection import train_test_split\n",
        "from sklearn.metrics import accuracy_score\n",
        "X_train, X_test, y_train, y_test = train_test_split(\n",
        "    cancer.data, cancer.target, stratify=cancer.target, test_size=0.3, random_state=2021\n",
        ")\n",
        "\n",
        "dtc = DecisionTreeClassifier()\n",
        "dtc.fit(X_train, y_train)\n",
        "pred = dtc.predict(X_test)\n",
        "accuracy_score(y_test, pred)"
      ],
      "execution_count": 160,
      "outputs": [
        {
          "output_type": "execute_result",
          "data": {
            "text/plain": [
              "0.9122807017543859"
            ]
          },
          "metadata": {
            "tags": []
          },
          "execution_count": 160
        }
      ]
    },
    {
      "cell_type": "code",
      "metadata": {
        "id": "JTwyG18B5TU9"
      },
      "source": [
        "pc_list = ['PC'+ str(i) for i in range(1,11)]\r\n",
        "cancer_pca2_df = pd.DataFrame(data=cancer_pca2, columns=pc_list[:2])\r\n",
        "cancer_pca2_df['target'] = cancer.target\r\n",
        "cancer_pca5_df = pd.DataFrame(data=cancer_pca5, columns=pc_list[:5])\r\n",
        "cancer_pca5_df['target'] = cancer.target\r\n",
        "cancer_pca10_df = pd.DataFrame(data=cancer_pca10, columns=pc_list[:10])\r\n",
        "cancer_pca10_df['target'] = cancer.target"
      ],
      "execution_count": 161,
      "outputs": []
    },
    {
      "cell_type": "markdown",
      "metadata": {
        "id": "xYez0p4c71RB"
      },
      "source": [
        "## 축소후 데이터 분류"
      ]
    },
    {
      "cell_type": "code",
      "metadata": {
        "colab": {
          "base_uri": "https://localhost:8080/"
        },
        "id": "pl6hCRo96l4S",
        "outputId": "9387fdd9-1098-4f39-b9c2-def46c0065d9"
      },
      "source": [
        "X_train, X_test, y_train, y_test = train_test_split(\r\n",
        "    cancer_pca10_df[cancer_pca10_df.columns.difference(['target'])], cancer.target, stratify=cancer.target, \r\n",
        "    test_size=0.3, random_state=2021\r\n",
        ")\r\n",
        "dtc.fit(X_train, y_train)\r\n",
        "pred = dtc.predict(X_test)\r\n",
        "accuracy_score(y_test, pred)"
      ],
      "execution_count": 183,
      "outputs": [
        {
          "output_type": "execute_result",
          "data": {
            "text/plain": [
              "0.9122807017543859"
            ]
          },
          "metadata": {
            "tags": []
          },
          "execution_count": 183
        }
      ]
    },
    {
      "cell_type": "code",
      "metadata": {
        "colab": {
          "base_uri": "https://localhost:8080/"
        },
        "id": "TGdvRH5R8txR",
        "outputId": "a86b7b71-0b85-4b58-cf05-c5a15d7513a2"
      },
      "source": [
        "X_train, X_test, y_train, y_test = train_test_split(\r\n",
        "    cancer_pca5_df[cancer_pca5_df.columns.difference(['target'])], cancer.target, stratify=cancer.target, \r\n",
        "    test_size=0.3, random_state=2021\r\n",
        ")\r\n",
        "dtc = DecisionTreeClassifier()\r\n",
        "dtc.fit(X_train, y_train)\r\n",
        "pred = dtc.predict(X_test)\r\n",
        "accuracy_score(y_test, pred)"
      ],
      "execution_count": 187,
      "outputs": [
        {
          "output_type": "execute_result",
          "data": {
            "text/plain": [
              "0.9298245614035088"
            ]
          },
          "metadata": {
            "tags": []
          },
          "execution_count": 187
        }
      ]
    },
    {
      "cell_type": "code",
      "metadata": {
        "colab": {
          "base_uri": "https://localhost:8080/"
        },
        "id": "0wZ2vLU398dN",
        "outputId": "0b3e89d5-68b4-4a59-bc81-9a39a65ae36b"
      },
      "source": [
        "X_train, X_test, y_train, y_test = train_test_split(\r\n",
        "    cancer_pca2_df[cancer_pca2_df.columns.difference(['target'])], cancer.target, stratify=cancer.target, \r\n",
        "    test_size=0.3, random_state=2021\r\n",
        ")\r\n",
        "dtc = DecisionTreeClassifier()\r\n",
        "dtc.fit(X_train, y_train)\r\n",
        "pred = dtc.predict(X_test)\r\n",
        "accuracy_score(y_test, pred)"
      ],
      "execution_count": 188,
      "outputs": [
        {
          "output_type": "execute_result",
          "data": {
            "text/plain": [
              "0.9239766081871345"
            ]
          },
          "metadata": {
            "tags": []
          },
          "execution_count": 188
        }
      ]
    },
    {
      "cell_type": "markdown",
      "metadata": {
        "id": "eSGvANltAp4Y"
      },
      "source": [
        "## 2개 차원축소로 시각화"
      ]
    },
    {
      "cell_type": "code",
      "metadata": {
        "colab": {
          "base_uri": "https://localhost:8080/",
          "height": 279
        },
        "id": "_qxnxqPa-HbV",
        "outputId": "f4342596-4633-4eba-c69d-059717aab43b"
      },
      "source": [
        "#setosa를 세모, versicolor를 네모, virginica를 동그라미로 표시\r\n",
        "markers=['^', 's', 'o']\r\n",
        "\r\n",
        "#pca_component_1 을 x축, pc_component_2를 y축으로 scatter plot 수행. \r\n",
        "for i, marker in enumerate(markers[:2]):\r\n",
        "    x_axis_data = cancer_pca2_df[cancer_pca2_df['target']==i]['PC1']\r\n",
        "    y_axis_data = cancer_pca2_df[cancer_pca2_df['target']==i]['PC2']\r\n",
        "    plt.scatter(x_axis_data, y_axis_data, marker=marker,\r\n",
        "                label=cancer.target_names[i])\r\n",
        "\r\n",
        "plt.legend()\r\n",
        "plt.xlabel('PCA Component 1')\r\n",
        "plt.ylabel('PCA Component 2')\r\n",
        "plt.show()"
      ],
      "execution_count": 165,
      "outputs": [
        {
          "output_type": "display_data",
          "data": {
            "image/png": "[encoded data removed]",
            "text/plain": [
              "<Figure size 432x288 with 1 Axes>"
            ]
          },
          "metadata": {
            "tags": [],
            "needs_background": "light"
          }
        }
      ]
    },
    {
      "cell_type": "code",
      "metadata": {
        "id": "OmQoinsR_c9W"
      },
      "source": [],
      "execution_count": 165,
      "outputs": []
    }
  ]
}