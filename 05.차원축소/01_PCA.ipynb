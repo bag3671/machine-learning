{
  "nbformat": 4,
  "nbformat_minor": 0,
  "metadata": {
    "colab": {
      "name": "01_PCA.ipynb",
      "provenance": []
    },
    "kernelspec": {
      "name": "python3",
      "display_name": "Python 3"
    }
  },
  "cells": [
    {
      "cell_type": "markdown",
      "metadata": {
        "id": "gAjCHXhTQy_o"
      },
      "source": [
        "# PCA (Principal Component Analysis)"
      ]
    },
    {
      "cell_type": "code",
      "metadata": {
        "id": "-_d6Fy8GBH4u"
      },
      "source": [
        "import numpy as np\r\n",
        "import seaborn as sns\r\n",
        "import pandas as pd\r\n",
        "import matplotlib.pyplot as plt\r\n",
        "%matplotlib inline"
      ],
      "execution_count": 1,
      "outputs": []
    },
    {
      "cell_type": "markdown",
      "metadata": {
        "id": "Rg8NBh5GRFYA"
      },
      "source": [
        "Iris datasets를 통해 PCA를 수행"
      ]
    },
    {
      "cell_type": "code",
      "metadata": {
        "id": "14XsXJfLRB9J"
      },
      "source": [
        "from sklearn.datasets import load_iris\r\n",
        "iris = load_iris()"
      ],
      "execution_count": 2,
      "outputs": []
    },
    {
      "cell_type": "code",
      "metadata": {
        "id": "4KCIdZzGRVdk"
      },
      "source": [
        "# 표준 스케일러로 정규화\r\n",
        "from sklearn.preprocessing import StandardScaler\r\n",
        "\r\n",
        "scaler = StandardScaler()\r\n",
        "iris_std = scaler.fit_transform(iris.data)"
      ],
      "execution_count": 4,
      "outputs": []
    },
    {
      "cell_type": "markdown",
      "metadata": {
        "id": "pe4oGtpkWXAq"
      },
      "source": [
        "## numpy로 구하기"
      ]
    },
    {
      "cell_type": "code",
      "metadata": {
        "colab": {
          "base_uri": "https://localhost:8080/"
        },
        "id": "vS0MyUQNRrwp",
        "outputId": "6c5fd227-2956-48f2-b55c-3749d359f2b4"
      },
      "source": [
        "# 공분산 행렬 구하기\r\n",
        "iris_cov = np.dot(iris_std.T,iris_std) / len(iris_std)\r\n",
        "iris_cov"
      ],
      "execution_count": 6,
      "outputs": [
        {
          "output_type": "execute_result",
          "data": {
            "text/plain": [
              "array([[ 1.        , -0.11756978,  0.87175378,  0.81794113],\n",
              "       [-0.11756978,  1.        , -0.4284401 , -0.36612593],\n",
              "       [ 0.87175378, -0.4284401 ,  1.        ,  0.96286543],\n",
              "       [ 0.81794113, -0.36612593,  0.96286543,  1.        ]])"
            ]
          },
          "metadata": {
            "tags": []
          },
          "execution_count": 6
        }
      ]
    },
    {
      "cell_type": "code",
      "metadata": {
        "colab": {
          "base_uri": "https://localhost:8080/"
        },
        "id": "x7649Ep6R_WR",
        "outputId": "25ea5c19-0818-4ff3-bd1f-39fbcddf259b"
      },
      "source": [
        "np.cov(iris_std.T)"
      ],
      "execution_count": 7,
      "outputs": [
        {
          "output_type": "execute_result",
          "data": {
            "text/plain": [
              "array([[ 1.00671141, -0.11835884,  0.87760447,  0.82343066],\n",
              "       [-0.11835884,  1.00671141, -0.43131554, -0.36858315],\n",
              "       [ 0.87760447, -0.43131554,  1.00671141,  0.96932762],\n",
              "       [ 0.82343066, -0.36858315,  0.96932762,  1.00671141]])"
            ]
          },
          "metadata": {
            "tags": []
          },
          "execution_count": 7
        }
      ]
    },
    {
      "cell_type": "code",
      "metadata": {
        "colab": {
          "base_uri": "https://localhost:8080/"
        },
        "id": "8PtWFea_SmqJ",
        "outputId": "7915d7d2-e9cb-4a1b-d608-5e00e697b050"
      },
      "source": [
        "np.dot(iris_std.T,iris_std) / (len(iris_std)-1)"
      ],
      "execution_count": 8,
      "outputs": [
        {
          "output_type": "execute_result",
          "data": {
            "text/plain": [
              "array([[ 1.00671141, -0.11835884,  0.87760447,  0.82343066],\n",
              "       [-0.11835884,  1.00671141, -0.43131554, -0.36858315],\n",
              "       [ 0.87760447, -0.43131554,  1.00671141,  0.96932762],\n",
              "       [ 0.82343066, -0.36858315,  0.96932762,  1.00671141]])"
            ]
          },
          "metadata": {
            "tags": []
          },
          "execution_count": 8
        }
      ]
    },
    {
      "cell_type": "code",
      "metadata": {
        "colab": {
          "base_uri": "https://localhost:8080/"
        },
        "id": "wOTO6TqBSsMY",
        "outputId": "fa653832-feec-4584-f31c-9ec974b3af55"
      },
      "source": [
        "#고유벡터, 고유값구하기\r\n",
        "eig_vals, eig_vegs = np.linalg.eig(iris_cov)\r\n",
        "eig_vals"
      ],
      "execution_count": 11,
      "outputs": [
        {
          "output_type": "execute_result",
          "data": {
            "text/plain": [
              "array([2.91849782, 0.91403047, 0.14675688, 0.02071484])"
            ]
          },
          "metadata": {
            "tags": []
          },
          "execution_count": 11
        }
      ]
    },
    {
      "cell_type": "code",
      "metadata": {
        "colab": {
          "base_uri": "https://localhost:8080/"
        },
        "id": "dNDTBPrTTZsA",
        "outputId": "0d137b1b-995d-491c-eed8-e224d67c4ccf"
      },
      "source": [
        "eig_vegs"
      ],
      "execution_count": 12,
      "outputs": [
        {
          "output_type": "execute_result",
          "data": {
            "text/plain": [
              "array([[ 0.52106591, -0.37741762, -0.71956635,  0.26128628],\n",
              "       [-0.26934744, -0.92329566,  0.24438178, -0.12350962],\n",
              "       [ 0.5804131 , -0.02449161,  0.14212637, -0.80144925],\n",
              "       [ 0.56485654, -0.06694199,  0.63427274,  0.52359713]])"
            ]
          },
          "metadata": {
            "tags": []
          },
          "execution_count": 12
        }
      ]
    },
    {
      "cell_type": "code",
      "metadata": {
        "colab": {
          "base_uri": "https://localhost:8080/"
        },
        "id": "GfWFlQ-lTa0-",
        "outputId": "c15b1266-e07e-4fae-b593-140542b75e19"
      },
      "source": [
        "# 주성분 PC1\r\n",
        "PC1 = np.dot(iris_std, eig_vegs.T[0].reshape(-1,1))\r\n",
        "PC1[:5]"
      ],
      "execution_count": 26,
      "outputs": [
        {
          "output_type": "execute_result",
          "data": {
            "text/plain": [
              "array([[-2.26470281],\n",
              "       [-2.08096115],\n",
              "       [-2.36422905],\n",
              "       [-2.29938422],\n",
              "       [-2.38984217]])"
            ]
          },
          "metadata": {
            "tags": []
          },
          "execution_count": 26
        }
      ]
    },
    {
      "cell_type": "code",
      "metadata": {
        "colab": {
          "base_uri": "https://localhost:8080/"
        },
        "id": "CUKEUhQxUdX2",
        "outputId": "2614126d-0276-4c81-e723-6ac7ef8f1ff2"
      },
      "source": [
        "# 주성분 PC2\r\n",
        "PC2 = np.dot(iris_std, eig_vegs.T[1].reshape(-1,1))\r\n",
        "PC2[:5]"
      ],
      "execution_count": 27,
      "outputs": [
        {
          "output_type": "execute_result",
          "data": {
            "text/plain": [
              "array([[-0.4800266 ],\n",
              "       [ 0.67413356],\n",
              "       [ 0.34190802],\n",
              "       [ 0.59739451],\n",
              "       [-0.64683538]])"
            ]
          },
          "metadata": {
            "tags": []
          },
          "execution_count": 27
        }
      ]
    },
    {
      "cell_type": "code",
      "metadata": {
        "colab": {
          "base_uri": "https://localhost:8080/",
          "height": 419
        },
        "id": "epqXO841UncN",
        "outputId": "264c6973-4392-4cee-9a45-4814b4b5be11"
      },
      "source": [
        "iris_PCA = pd.DataFrame({'PC1':PC1.reshape(-1),'PC2':PC2.reshape(-1), 'species':iris.target})\r\n",
        "iris_PCA"
      ],
      "execution_count": 28,
      "outputs": [
        {
          "output_type": "execute_result",
          "data": {
            "text/html": [
              "<div>\n",
              "<style scoped>\n",
              "    .dataframe tbody tr th:only-of-type {\n",
              "        vertical-align: middle;\n",
              "    }\n",
              "\n",
              "    .dataframe tbody tr th {\n",
              "        vertical-align: top;\n",
              "    }\n",
              "\n",
              "    .dataframe thead th {\n",
              "        text-align: right;\n",
              "    }\n",
              "</style>\n",
              "<table border=\"1\" class=\"dataframe\">\n",
              "  <thead>\n",
              "    <tr style=\"text-align: right;\">\n",
              "      <th></th>\n",
              "      <th>PC1</th>\n",
              "      <th>PC2</th>\n",
              "      <th>species</th>\n",
              "    </tr>\n",
              "  </thead>\n",
              "  <tbody>\n",
              "    <tr>\n",
              "      <th>0</th>\n",
              "      <td>-2.264703</td>\n",
              "      <td>-0.480027</td>\n",
              "      <td>0</td>\n",
              "    </tr>\n",
              "    <tr>\n",
              "      <th>1</th>\n",
              "      <td>-2.080961</td>\n",
              "      <td>0.674134</td>\n",
              "      <td>0</td>\n",
              "    </tr>\n",
              "    <tr>\n",
              "      <th>2</th>\n",
              "      <td>-2.364229</td>\n",
              "      <td>0.341908</td>\n",
              "      <td>0</td>\n",
              "    </tr>\n",
              "    <tr>\n",
              "      <th>3</th>\n",
              "      <td>-2.299384</td>\n",
              "      <td>0.597395</td>\n",
              "      <td>0</td>\n",
              "    </tr>\n",
              "    <tr>\n",
              "      <th>4</th>\n",
              "      <td>-2.389842</td>\n",
              "      <td>-0.646835</td>\n",
              "      <td>0</td>\n",
              "    </tr>\n",
              "    <tr>\n",
              "      <th>...</th>\n",
              "      <td>...</td>\n",
              "      <td>...</td>\n",
              "      <td>...</td>\n",
              "    </tr>\n",
              "    <tr>\n",
              "      <th>145</th>\n",
              "      <td>1.870503</td>\n",
              "      <td>-0.386966</td>\n",
              "      <td>2</td>\n",
              "    </tr>\n",
              "    <tr>\n",
              "      <th>146</th>\n",
              "      <td>1.564580</td>\n",
              "      <td>0.896687</td>\n",
              "      <td>2</td>\n",
              "    </tr>\n",
              "    <tr>\n",
              "      <th>147</th>\n",
              "      <td>1.521170</td>\n",
              "      <td>-0.269069</td>\n",
              "      <td>2</td>\n",
              "    </tr>\n",
              "    <tr>\n",
              "      <th>148</th>\n",
              "      <td>1.372788</td>\n",
              "      <td>-1.011254</td>\n",
              "      <td>2</td>\n",
              "    </tr>\n",
              "    <tr>\n",
              "      <th>149</th>\n",
              "      <td>0.960656</td>\n",
              "      <td>0.024332</td>\n",
              "      <td>2</td>\n",
              "    </tr>\n",
              "  </tbody>\n",
              "</table>\n",
              "<p>150 rows × 3 columns</p>\n",
              "</div>"
            ],
            "text/plain": [
              "          PC1       PC2  species\n",
              "0   -2.264703 -0.480027        0\n",
              "1   -2.080961  0.674134        0\n",
              "2   -2.364229  0.341908        0\n",
              "3   -2.299384  0.597395        0\n",
              "4   -2.389842 -0.646835        0\n",
              "..        ...       ...      ...\n",
              "145  1.870503 -0.386966        2\n",
              "146  1.564580  0.896687        2\n",
              "147  1.521170 -0.269069        2\n",
              "148  1.372788 -1.011254        2\n",
              "149  0.960656  0.024332        2\n",
              "\n",
              "[150 rows x 3 columns]"
            ]
          },
          "metadata": {
            "tags": []
          },
          "execution_count": 28
        }
      ]
    },
    {
      "cell_type": "markdown",
      "metadata": {
        "id": "tlSmkcFKWahE"
      },
      "source": [
        "## sklearn 으로 구하기"
      ]
    },
    {
      "cell_type": "code",
      "metadata": {
        "id": "GEu1cfmTVCkP"
      },
      "source": [
        "from sklearn.decomposition import PCA\r\n",
        "pca = PCA(n_components=2)"
      ],
      "execution_count": 29,
      "outputs": []
    },
    {
      "cell_type": "code",
      "metadata": {
        "colab": {
          "base_uri": "https://localhost:8080/"
        },
        "id": "QuM_ZnRXVD60",
        "outputId": "1734ba31-ee83-4ee0-d2c1-2f6231e15ceb"
      },
      "source": [
        "#fit() 와 trnasform()을 호출하여 PCA변환 데이터 반환\r\n",
        "pca.fit(iris_std)\r\n",
        "iris_pca = pca.transform(iris_std)\r\n",
        "print(iris_pca.shape)\r\n"
      ],
      "execution_count": 31,
      "outputs": [
        {
          "output_type": "stream",
          "text": [
            "(150, 2)\n"
          ],
          "name": "stdout"
        }
      ]
    },
    {
      "cell_type": "code",
      "metadata": {
        "colab": {
          "base_uri": "https://localhost:8080/"
        },
        "id": "RyAi5XPoXXdn",
        "outputId": "cddc55bf-e09f-41b5-f8be-8d7fd1b67140"
      },
      "source": [
        "iris_pca[:5]"
      ],
      "execution_count": 33,
      "outputs": [
        {
          "output_type": "execute_result",
          "data": {
            "text/plain": [
              "array([[-2.26470281,  0.4800266 ],\n",
              "       [-2.08096115, -0.67413356],\n",
              "       [-2.36422905, -0.34190802],\n",
              "       [-2.29938422, -0.59739451],\n",
              "       [-2.38984217,  0.64683538]])"
            ]
          },
          "metadata": {
            "tags": []
          },
          "execution_count": 33
        }
      ]
    },
    {
      "cell_type": "markdown",
      "metadata": {
        "id": "NVHj_doScCuR"
      },
      "source": [
        "## 데이터 시각화"
      ]
    },
    {
      "cell_type": "code",
      "metadata": {
        "colab": {
          "base_uri": "https://localhost:8080/",
          "height": 802
        },
        "id": "OyMJ81DTYUJW",
        "outputId": "51b06eae-0f88-4d29-e7e9-00146f48c47f"
      },
      "source": [
        "columns = ['sepal_length','sepal_width','petal_length','petal_width']\r\n",
        "iris_df = pd.DataFrame(iris.data , columns=columns)\r\n",
        "iris_df['species']=iris.target\r\n",
        "sns.pairplot(iris_df);"
      ],
      "execution_count": 41,
      "outputs": [
        {
          "output_type": "display_data",
          "data": {
            "image/png": "[encoded data removed]",
            "text/plain": [
              "<Figure size 900x900 with 30 Axes>"
            ]
          },
          "metadata": {
            "tags": [],
            "needs_background": "light"
          }
        }
      ]
    },
    {
      "cell_type": "code",
      "metadata": {
        "colab": {
          "base_uri": "https://localhost:8080/",
          "height": 282
        },
        "id": "CwtM25kNcJ8F",
        "outputId": "6fc56df4-a33f-45aa-8b87-3e29e7d760aa"
      },
      "source": [
        "#setosa는 세모, versicolor는 네모, virginica는 동그라미로 표현\r\n",
        "markers=['^', 's', 'o']\r\n",
        "\r\n",
        "#setosa의 target 값은 0, versicolor는 1, virginica는 2. 각 target 별로 다른 shape으로 scatter plot \r\n",
        "for i, marker in enumerate(markers):\r\n",
        "    x_axis_data = iris_df[iris_df['species']==i]['sepal_length']\r\n",
        "    y_axis_data = iris_df[iris_df['species']==i]['sepal_width']\r\n",
        "    plt.scatter(x_axis_data, y_axis_data, marker=marker,label=iris.target_names[i])\r\n",
        "\r\n",
        "plt.legend()\r\n",
        "plt.xlabel('sepal length')\r\n",
        "plt.ylabel('sepal width')\r\n",
        "plt.show()"
      ],
      "execution_count": 42,
      "outputs": [
        {
          "output_type": "display_data",
          "data": {
            "image/png": "[encoded data removed]",
            "text/plain": [
              "<Figure size 432x288 with 1 Axes>"
            ]
          },
          "metadata": {
            "tags": [],
            "needs_background": "light"
          }
        }
      ]
    },
    {
      "cell_type": "markdown",
      "metadata": {
        "id": "OocXr_c-d2Ol"
      },
      "source": [
        "## PCA 변환후 시각화"
      ]
    },
    {
      "cell_type": "code",
      "metadata": {
        "colab": {
          "base_uri": "https://localhost:8080/",
          "height": 142
        },
        "id": "zrPC47cddC2T",
        "outputId": "6f0166e7-a3a5-4c92-cdc9-453566cb3e11"
      },
      "source": [
        "iris_pca_df = pd.DataFrame(data=iris_pca,columns=['PC1','PC2'])\r\n",
        "iris_pca_df['species'] = iris.target\r\n",
        "iris_pca_df.sample(3)"
      ],
      "execution_count": 44,
      "outputs": [
        {
          "output_type": "execute_result",
          "data": {
            "text/html": [
              "<div>\n",
              "<style scoped>\n",
              "    .dataframe tbody tr th:only-of-type {\n",
              "        vertical-align: middle;\n",
              "    }\n",
              "\n",
              "    .dataframe tbody tr th {\n",
              "        vertical-align: top;\n",
              "    }\n",
              "\n",
              "    .dataframe thead th {\n",
              "        text-align: right;\n",
              "    }\n",
              "</style>\n",
              "<table border=\"1\" class=\"dataframe\">\n",
              "  <thead>\n",
              "    <tr style=\"text-align: right;\">\n",
              "      <th></th>\n",
              "      <th>PC1</th>\n",
              "      <th>PC2</th>\n",
              "      <th>species</th>\n",
              "    </tr>\n",
              "  </thead>\n",
              "  <tbody>\n",
              "    <tr>\n",
              "      <th>46</th>\n",
              "      <td>-2.384733</td>\n",
              "      <td>1.120430</td>\n",
              "      <td>0</td>\n",
              "    </tr>\n",
              "    <tr>\n",
              "      <th>61</th>\n",
              "      <td>0.440693</td>\n",
              "      <td>-0.063295</td>\n",
              "      <td>1</td>\n",
              "    </tr>\n",
              "    <tr>\n",
              "      <th>84</th>\n",
              "      <td>0.223979</td>\n",
              "      <td>-0.287774</td>\n",
              "      <td>1</td>\n",
              "    </tr>\n",
              "  </tbody>\n",
              "</table>\n",
              "</div>"
            ],
            "text/plain": [
              "         PC1       PC2  species\n",
              "46 -2.384733  1.120430        0\n",
              "61  0.440693 -0.063295        1\n",
              "84  0.223979 -0.287774        1"
            ]
          },
          "metadata": {
            "tags": []
          },
          "execution_count": 44
        }
      ]
    },
    {
      "cell_type": "code",
      "metadata": {
        "colab": {
          "base_uri": "https://localhost:8080/",
          "height": 279
        },
        "id": "TARq4upcePwW",
        "outputId": "0f19d32b-8179-4f8d-b47c-1a9e7bd1951b"
      },
      "source": [
        "#setosa는 세모, versicolor는 네모, virginica는 동그라미로 표현\r\n",
        "markers=['^', 's', 'o']\r\n",
        "\r\n",
        "#setosa의 target 값은 0, versicolor는 1, virginica는 2. 각 target 별로 다른 shape으로 scatter plot \r\n",
        "for i, marker in enumerate(markers):\r\n",
        "    x_axis_data = iris_pca_df[iris_pca_df['species']==i]['PC1']\r\n",
        "    y_axis_data = iris_pca_df[iris_pca_df['species']==i]['PC2']\r\n",
        "    plt.scatter(x_axis_data, y_axis_data, marker=marker,label=iris.target_names[i])\r\n",
        "\r\n",
        "plt.legend()\r\n",
        "plt.xlabel('PCA Component 1')\r\n",
        "plt.ylabel('PCA Component 2')\r\n",
        "plt.show()"
      ],
      "execution_count": 47,
      "outputs": [
        {
          "output_type": "display_data",
          "data": {
            "image/png": "[encoded data removed]",
            "text/plain": [
              "<Figure size 432x288 with 1 Axes>"
            ]
          },
          "metadata": {
            "tags": [],
            "needs_background": "light"
          }
        }
      ]
    },
    {
      "cell_type": "code",
      "metadata": {
        "colab": {
          "base_uri": "https://localhost:8080/"
        },
        "id": "t7pln6Nseana",
        "outputId": "e7ee3a22-aba5-4033-bc0d-489600048f51"
      },
      "source": [
        "print(pca.explained_variance_ratio_)"
      ],
      "execution_count": 48,
      "outputs": [
        {
          "output_type": "stream",
          "text": [
            "[0.72962445 0.22850762]\n"
          ],
          "name": "stdout"
        }
      ]
    },
    {
      "cell_type": "code",
      "metadata": {
        "id": "DiIS7HZ_fT0H"
      },
      "source": [
        "from sklearn.tree import DecisionTreeClassifier\r\n",
        "from sklearn.model_selection import train_test_split\r\n",
        "from sklearn.metrics import accuracy_score"
      ],
      "execution_count": 49,
      "outputs": []
    },
    {
      "cell_type": "code",
      "metadata": {
        "id": "OlI7nUqagFPA"
      },
      "source": [
        "X_train, X_test, y_train, y_test = train_test_split(\r\n",
        "    iris.data, iris.target, stratify=iris.target, test_size=0.3, random_state=2021\r\n",
        ")"
      ],
      "execution_count": 51,
      "outputs": []
    },
    {
      "cell_type": "markdown",
      "metadata": {
        "id": "vyUVSCtZgyPZ"
      },
      "source": [
        "## 차원축소전 데이터로 분류"
      ]
    },
    {
      "cell_type": "code",
      "metadata": {
        "colab": {
          "base_uri": "https://localhost:8080/"
        },
        "id": "DifbFKwWgbIs",
        "outputId": "9b0dd2b4-1fd5-4e48-c8dd-ea6b0c1c81ed"
      },
      "source": [
        "dtc = DecisionTreeClassifier()\r\n",
        "dtc.fit(X_train,y_train)\r\n",
        "pred = dtc.predict(X_test)\r\n",
        "accuracy_score(y_test,pred)"
      ],
      "execution_count": 53,
      "outputs": [
        {
          "output_type": "execute_result",
          "data": {
            "text/plain": [
              "0.9111111111111111"
            ]
          },
          "metadata": {
            "tags": []
          },
          "execution_count": 53
        }
      ]
    },
    {
      "cell_type": "markdown",
      "metadata": {
        "id": "3qA7zaD7g1qT"
      },
      "source": [
        "## 차원축소후 데이터로 분류"
      ]
    },
    {
      "cell_type": "code",
      "metadata": {
        "id": "QsatxTw9goQU"
      },
      "source": [
        "X_train, X_test, y_train, y_test = train_test_split(\r\n",
        "    iris_pca_df[['PC1','PC2']], iris.target, stratify=iris.target, test_size=0.3, random_state=2021\r\n",
        ")"
      ],
      "execution_count": 54,
      "outputs": []
    },
    {
      "cell_type": "code",
      "metadata": {
        "colab": {
          "base_uri": "https://localhost:8080/"
        },
        "id": "PX4lDyEGhDzi",
        "outputId": "65636578-0c90-4838-944e-58a969493f2e"
      },
      "source": [
        "dtc = DecisionTreeClassifier()\r\n",
        "dtc.fit(X_train,y_train)\r\n",
        "pred = dtc.predict(X_test)\r\n",
        "accuracy_score(y_test,pred)"
      ],
      "execution_count": 55,
      "outputs": [
        {
          "output_type": "execute_result",
          "data": {
            "text/plain": [
              "0.9111111111111111"
            ]
          },
          "metadata": {
            "tags": []
          },
          "execution_count": 55
        }
      ]
    },
    {
      "cell_type": "code",
      "metadata": {
        "id": "ZXrxHO3VhFk5"
      },
      "source": [
        ""
      ],
      "execution_count": null,
      "outputs": []
    }
  ]
}