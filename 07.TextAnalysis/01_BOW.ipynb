{
  "nbformat": 4,
  "nbformat_minor": 0,
  "metadata": {
    "colab": {
      "name": "01_BOW.ipynb",
      "provenance": []
    },
    "kernelspec": {
      "name": "python3",
      "display_name": "Python 3"
    }
  },
  "cells": [
    {
      "cell_type": "code",
      "metadata": {
        "id": "Y92qXGkld1FW"
      },
      "source": [
        "# ! pip install nltk"
      ],
      "execution_count": 23,
      "outputs": []
    },
    {
      "cell_type": "code",
      "metadata": {
        "id": "AIH2caOXeAIx"
      },
      "source": [
        "# import nltk\r\n",
        "# nltk.download('stopwords')"
      ],
      "execution_count": 24,
      "outputs": []
    },
    {
      "cell_type": "markdown",
      "metadata": {
        "id": "XUPsF2qoaHMe"
      },
      "source": [
        "# 텍스트 분석 - BOW(Bag of Word)"
      ]
    },
    {
      "cell_type": "markdown",
      "metadata": {
        "id": "EeoxNwHyaNTn"
      },
      "source": [
        "## 1. Count Vectorizer"
      ]
    },
    {
      "cell_type": "code",
      "metadata": {
        "id": "9j99Oiv8Z6Pq"
      },
      "source": [
        "from sklearn.feature_extraction.text import CountVectorizer\r\n",
        "corpus = ['you know I want your love. because I love you']"
      ],
      "execution_count": 25,
      "outputs": []
    },
    {
      "cell_type": "code",
      "metadata": {
        "colab": {
          "base_uri": "https://localhost:8080/"
        },
        "id": "0UaiCxwnabaG",
        "outputId": "d9384fd8-8e81-4b8e-ef33-11358593a5d8"
      },
      "source": [
        "count_vect = CountVectorizer()\r\n",
        "count_vect.fit(corpus)\r\n",
        "output = count_vect.transform(corpus)\r\n",
        "output.toarray()"
      ],
      "execution_count": 26,
      "outputs": [
        {
          "output_type": "execute_result",
          "data": {
            "text/plain": [
              "array([[1, 1, 2, 1, 2, 1]])"
            ]
          },
          "metadata": {
            "tags": []
          },
          "execution_count": 26
        }
      ]
    },
    {
      "cell_type": "code",
      "metadata": {
        "colab": {
          "base_uri": "https://localhost:8080/"
        },
        "id": "4UjmYRcSa3LE",
        "outputId": "601b7294-219d-4806-a985-0ce48148b3db"
      },
      "source": [
        "count_vect.vocabulary_"
      ],
      "execution_count": 27,
      "outputs": [
        {
          "output_type": "execute_result",
          "data": {
            "text/plain": [
              "{'because': 0, 'know': 1, 'love': 2, 'want': 3, 'you': 4, 'your': 5}"
            ]
          },
          "metadata": {
            "tags": []
          },
          "execution_count": 27
        }
      ]
    },
    {
      "cell_type": "markdown",
      "metadata": {
        "id": "Lq8HM-tbbLwN"
      },
      "source": [
        "## 불용어를 제거한 Bow"
      ]
    },
    {
      "cell_type": "code",
      "metadata": {
        "colab": {
          "base_uri": "https://localhost:8080/"
        },
        "id": "3R2z-1CXbEus",
        "outputId": "d1071db2-e78e-4b2f-fc05-c588ee2319b0"
      },
      "source": [
        "text=[\"Family is not an important thing. It's everything.\"]\r\n",
        "cvect = CountVectorizer(stop_words=[\"the\", \"a\", \"an\", \"is\", \"not\"])\r\n",
        "print(cvect.fit_transform(text).toarray()) \r\n",
        "print(cvect.vocabulary_)"
      ],
      "execution_count": 28,
      "outputs": [
        {
          "output_type": "stream",
          "text": [
            "[[1 1 1 1 1]]\n",
            "{'family': 1, 'important': 2, 'thing': 4, 'it': 3, 'everything': 0}\n"
          ],
          "name": "stdout"
        }
      ]
    },
    {
      "cell_type": "code",
      "metadata": {
        "colab": {
          "base_uri": "https://localhost:8080/"
        },
        "id": "lly1FCxLbgUs",
        "outputId": "7ba5b662-00d3-4b5c-93dc-d3aed20abe9e"
      },
      "source": [
        "text=[\"Family is not an important thing. It's everything.\"]\r\n",
        "cvect = CountVectorizer(stop_words=\"english\")\r\n",
        "print(cvect.fit_transform(text).toarray())\r\n",
        "print(cvect.vocabulary_)"
      ],
      "execution_count": 29,
      "outputs": [
        {
          "output_type": "stream",
          "text": [
            "[[1 1 1]]\n",
            "{'family': 0, 'important': 1, 'thing': 2}\n"
          ],
          "name": "stdout"
        }
      ]
    },
    {
      "cell_type": "code",
      "metadata": {
        "colab": {
          "base_uri": "https://localhost:8080/"
        },
        "id": "l9wp3j3ecYze",
        "outputId": "83ef73cb-7f87-4be3-928e-72d5a035f29a"
      },
      "source": [
        "from nltk.corpus import stopwords\r\n",
        "stopwords.words(\"english\")\r\n",
        "text=[\"Family is not an important thing. It's everything.\"]\r\n",
        "sw = stopwords.words(\"english\")\r\n",
        "vect = CountVectorizer(stop_words =sw)\r\n",
        "print(vect.fit_transform(text).toarray()) \r\n",
        "print(vect.vocabulary_)"
      ],
      "execution_count": 30,
      "outputs": [
        {
          "output_type": "stream",
          "text": [
            "[[1 1 1 1]]\n",
            "{'family': 1, 'important': 2, 'thing': 3, 'everything': 0}\n"
          ],
          "name": "stdout"
        }
      ]
    },
    {
      "cell_type": "code",
      "metadata": {
        "colab": {
          "base_uri": "https://localhost:8080/"
        },
        "id": "kfhBLa-Sczz1",
        "outputId": "143a7c71-c361-4e6e-881f-322422afb359"
      },
      "source": [
        "cvect = CountVectorizer(ngram_range=(1,2))\r\n",
        "print(cvect.fit_transform(text).toarray()) \r\n",
        "print(cvect.vocabulary_)"
      ],
      "execution_count": 31,
      "outputs": [
        {
          "output_type": "stream",
          "text": [
            "[[1 1 1 1 1 1 1 1 1 1 1 1 1 1 1]]\n",
            "{'family': 3, 'is': 7, 'not': 11, 'an': 0, 'important': 5, 'thing': 13, 'it': 9, 'everything': 2, 'family is': 4, 'is not': 8, 'not an': 12, 'an important': 1, 'important thing': 6, 'thing it': 14, 'it everything': 10}\n"
          ],
          "name": "stdout"
        }
      ]
    },
    {
      "cell_type": "code",
      "metadata": {
        "colab": {
          "base_uri": "https://localhost:8080/"
        },
        "id": "nrqMqMeojC-A",
        "outputId": "7a0fc195-652b-4f58-9dc8-b20d13a3679d"
      },
      "source": [
        "cvect = CountVectorizer(ngram_range=(1,3))\r\n",
        "print(cvect.fit_transform(text).toarray()) \r\n",
        "print(cvect.vocabulary_)"
      ],
      "execution_count": 32,
      "outputs": [
        {
          "output_type": "stream",
          "text": [
            "[[1 1 1 1 1 1 1 1 1 1 1 1 1 1 1 1 1 1 1 1 1]]\n",
            "{'family': 4, 'is': 10, 'not': 15, 'an': 0, 'important': 7, 'thing': 18, 'it': 13, 'everything': 3, 'family is': 5, 'is not': 11, 'not an': 16, 'an important': 1, 'important thing': 8, 'thing it': 19, 'it everything': 14, 'family is not': 6, 'is not an': 12, 'not an important': 17, 'an important thing': 2, 'important thing it': 9, 'thing it everything': 20}\n"
          ],
          "name": "stdout"
        }
      ]
    },
    {
      "cell_type": "code",
      "metadata": {
        "colab": {
          "base_uri": "https://localhost:8080/"
        },
        "id": "zMaN5Y0GjFIT",
        "outputId": "95d724a0-2d6a-4145-8512-1b4497df77df"
      },
      "source": [
        "cvect = CountVectorizer(ngram_range=(2,3))\r\n",
        "print(cvect.fit_transform(text).toarray()) \r\n",
        "print(cvect.vocabulary_)"
      ],
      "execution_count": 33,
      "outputs": [
        {
          "output_type": "stream",
          "text": [
            "[[1 1 1 1 1 1 1 1 1 1 1 1 1]]\n",
            "{'family is': 2, 'is not': 6, 'not an': 9, 'an important': 0, 'important thing': 4, 'thing it': 11, 'it everything': 8, 'family is not': 3, 'is not an': 7, 'not an important': 10, 'an important thing': 1, 'important thing it': 5, 'thing it everything': 12}\n"
          ],
          "name": "stdout"
        }
      ]
    },
    {
      "cell_type": "code",
      "metadata": {
        "colab": {
          "base_uri": "https://localhost:8080/"
        },
        "id": "7ry3t2bNjHBZ",
        "outputId": "5974af12-022e-45e5-f9af-9a5829977cef"
      },
      "source": [
        "cvect = CountVectorizer(ngram_range=(1,2),stop_words='english')\r\n",
        "print(cvect.fit_transform(text).toarray()) \r\n",
        "print(cvect.vocabulary_)"
      ],
      "execution_count": 34,
      "outputs": [
        {
          "output_type": "stream",
          "text": [
            "[[1 1 1 1 1]]\n",
            "{'family': 0, 'important': 2, 'thing': 4, 'family important': 1, 'important thing': 3}\n"
          ],
          "name": "stdout"
        }
      ]
    },
    {
      "cell_type": "markdown",
      "metadata": {
        "id": "WsmUfzmHmEa2"
      },
      "source": [
        "## 2. TF-IDF Vectorizer"
      ]
    },
    {
      "cell_type": "code",
      "metadata": {
        "colab": {
          "base_uri": "https://localhost:8080/"
        },
        "id": "mBs5eUXDkeYF",
        "outputId": "b4168e05-d24b-4d81-bb3c-5ff2fa1ad6da"
      },
      "source": [
        "from sklearn.feature_extraction.text import CountVectorizer\r\n",
        "corpus = [\r\n",
        "    'you know I want your love',\r\n",
        "    'I like you',\r\n",
        "    'what should I do ',    \r\n",
        "]\r\n",
        "vector = CountVectorizer()\r\n",
        "print(vector.fit_transform(corpus).toarray()) # 코퍼스로부터 각 단어의 빈도 수를 기록한다.\r\n",
        "print(vector.vocabulary_) # 각 단어의 인덱스가 어떻게 부여되었는지를 보여준다."
      ],
      "execution_count": 35,
      "outputs": [
        {
          "output_type": "stream",
          "text": [
            "[[0 1 0 1 0 1 0 1 1]\n",
            " [0 0 1 0 0 0 0 1 0]\n",
            " [1 0 0 0 1 0 1 0 0]]\n",
            "{'you': 7, 'know': 1, 'want': 5, 'your': 8, 'love': 3, 'like': 2, 'what': 6, 'should': 4, 'do': 0}\n"
          ],
          "name": "stdout"
        }
      ]
    },
    {
      "cell_type": "code",
      "metadata": {
        "id": "O0SmqEq0mJny"
      },
      "source": [
        "tfidf_vector = CountVectorizer()\r\n",
        "print(tfidf_vector.fit_transform(corpus).toarray()) \r\n",
        "print(tfidf_vector.vocabulary_)"
      ],
      "execution_count": null,
      "outputs": []
    }
  ]
}